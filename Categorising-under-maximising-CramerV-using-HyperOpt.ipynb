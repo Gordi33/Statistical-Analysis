{
 "cells": [
  {
   "cell_type": "markdown",
   "metadata": {},
   "source": [
    "Finding the optimum breaks/splits for different sizes of bins for the metric variable \"Salary\" in reference to the binary variable \"Clicked\" such that the association measure CramerV is maximised.\n",
    "\n",
    "    In part 2:\n",
    "    HyperOpt and fmin are used to find the maxmimum CramerV-assiociation measure for 2, 3, 4, 5,\n",
    "    10, 20, 50 and 100 splits. The splits should range between 1K and 100K in 1K-steps.\n",
    "        \n",
    "    In part 3:\n",
    "    For each split and their optimum solution (according the solver), the Chi-Square-Test is\n",
    "    computed and the categorized \"Salary\"-variable is visualized.\n",
    "    \n",
    "    In part 4:\n",
    "    The total cycle is evaluated with two breaks/splits to find the true global optimum.\n",
    "    That output is be compared to the Solver solution."
   ]
  },
  {
   "cell_type": "markdown",
   "metadata": {
    "heading_collapsed": true
   },
   "source": [
    "# Imports & read data"
   ]
  },
  {
   "cell_type": "code",
   "execution_count": 2,
   "metadata": {
    "hidden": true
   },
   "outputs": [],
   "source": [
    "%matplotlib inline\n",
    "import sys\n",
    "sys.path.insert(0, 'lib\\\\')\n",
    "import pandas as pd\n",
    "import numpy as np\n",
    "import matplotlib.pyplot as plt\n",
    "import seaborn as sns\n",
    "import scipy.special\n",
    "import warnings\n",
    "warnings.simplefilter(\"ignore\")\n",
    "import Analyser\n",
    "import researchpy as rp\n",
    "from hyperopt import hp\n",
    "from hyperopt import rand, tpe\n",
    "from hyperopt import Trials\n",
    "from hyperopt import fmin"
   ]
  },
  {
   "cell_type": "markdown",
   "metadata": {
    "hidden": true
   },
   "source": [
    "## Read data"
   ]
  },
  {
   "cell_type": "code",
   "execution_count": 3,
   "metadata": {
    "hidden": true
   },
   "outputs": [],
   "source": [
    "df = pd.read_csv('data\\\\Facebook_Ads.csv', encoding='ISO-8859-1')"
   ]
  },
  {
   "cell_type": "markdown",
   "metadata": {},
   "source": [
    "# Create and set-up Solver solution\n",
    "Firstly, define space, a dictionary with the desired splits and their uniform distribution for searching. \n",
    "Secondly, define objective-function, which bins the metric variable \"salary\" according the number of splits. \n",
    "Thirdly, apply the solver for the different splits/breaks/bins to find the maximum correlation (CramerV) between the 'Clicked' and previous binned 'Salary_categorized' variable. "
   ]
  },
  {
   "cell_type": "code",
   "execution_count": 4,
   "metadata": {
    "code_folding": []
   },
   "outputs": [],
   "source": [
    "# Set up a dictionary for the binning. Each element defines a split with their distribution.\n",
    "# Input: Number of splits, the search range and the steps for search range.\n",
    "def get_space(p_breaks, p_min, p_max, p_steps): \n",
    "    dicts = {}\n",
    "    keys = range(p_breaks)\n",
    "    for i in keys:\n",
    "        dicts[i] = (hp.quniform(str(i), p_min, p_max, p_steps))\n",
    "    return dicts\n",
    "\n",
    "# objective-function -> MIN ! \n",
    "# Salary variable is binned according the input space (the split values)\n",
    "# CramerV value (for Clicked and Salary_categorized) is picked up (negative) to minimize.\n",
    "def objectiveX(space):\n",
    "    temp = df\n",
    "    spaceList = []\n",
    "    spaceList = [int(space[i]) for i in range(0, len(space))]\n",
    "    bins = spaceList\n",
    "    bins.sort()\n",
    "    group_names = [i for i in range(0, len(bins) - 1)]\n",
    "    temp['Salary_cat'] = np.digitize(temp['Salary'], bins)\n",
    "    results = np.array(rp.crosstab(temp['Clicked'], temp['Salary_cat'], test= 'chi-square')[1])[2][1]\n",
    "    del bins\n",
    "    return -results"
   ]
  },
  {
   "cell_type": "code",
   "execution_count": 6,
   "metadata": {},
   "outputs": [
    {
     "name": "stdout",
     "output_type": "stream",
     "text": [
      "1  Breaking points considered\n",
      "100%|██████████| 1000/1000 [03:45<00:00,  3.52trial/s, best loss: -0.6455]\n",
      "2  Breaking points considered\n",
      "100%|██████████| 1000/1000 [04:47<00:00,  2.37trial/s, best loss: -0.6812]\n",
      "3  Breaking points considered\n",
      "100%|██████████| 1000/1000 [06:12<00:00,  1.72trial/s, best loss: -0.6894]\n",
      "4  Breaking points considered\n",
      "100%|██████████| 1000/1000 [07:34<00:00,  1.32trial/s, best loss: -0.6909]\n",
      "5  Breaking points considered\n",
      "100%|██████████| 1000/1000 [09:17<00:00,  1.10trial/s, best loss: -0.6924]\n",
      "10  Breaking points considered\n",
      "100%|██████████| 1000/1000 [16:10<00:00,  1.68s/trial, best loss: -0.6975]\n",
      "20  Breaking points considered\n",
      "100%|██████████| 1000/1000 [30:29<00:00,  3.25s/trial, best loss: -0.7025]\n",
      "50  Breaking points considered\n",
      "100%|██████████| 1000/1000 [1:13:05<00:00,  8.06s/trial, best loss: -0.7119]\n"
     ]
    }
   ],
   "source": [
    "# Set-up the algorithms and define the number of desired breaks\n",
    "tpe_algo              = tpe.suggest\n",
    "rand_algo             = rand.suggest\n",
    "tpe_best_container    = []\n",
    "tpe_trials_conatiner  = []\n",
    "breaks                = [1,2,3,4,5,10,20,50]\n",
    "\n",
    "for i in breaks:\n",
    "    print(i, ' Breaking points considered')\n",
    "    \n",
    "    space = get_space(i, 1000, 100000, 1000)\n",
    "    tpe_trials  = Trials()\n",
    "    #rand_trials = Trials()\n",
    "    tpe_trials_conatiner.append(tpe_trials)\n",
    "    \n",
    "    tpe_best = fmin(fn=objectiveX, \n",
    "                    space=space, \n",
    "                    algo=tpe_algo,       # rand_algo    --- search algorithms\n",
    "                    trials=tpe_trials,   # rand_trials  --- trial DB\n",
    "                    max_evals=1000, \n",
    "                    #rstate= np.random.RandomState(50)\n",
    "                   )\n",
    "    \n",
    "    tpe_best_container.append(tpe_best)"
   ]
  },
  {
   "cell_type": "code",
   "execution_count": 7,
   "metadata": {
    "scrolled": false
   },
   "outputs": [
    {
     "data": {
      "image/png": "[encoded data removed]",
      "text/plain": [
       "<Figure size 432x288 with 1 Axes>"
      ]
     },
     "metadata": {
      "needs_background": "light"
     },
     "output_type": "display_data"
    }
   ],
   "source": [
    "CramerVs = [-tpe_trials_conatiner[i].best_trial['result']['loss'] for i in range(0, len(breaks))]\n",
    "plt.scatter(breaks,CramerVs)\n",
    "plt.show()"
   ]
  },
  {
   "cell_type": "markdown",
   "metadata": {},
   "source": [
    "Ran for each number of breaks [1,2,3,4,5,10,20,50] 1000 trials to maximise the correlation metric CramerV and in finding the optimum breaks in discretizing/binning the 'Salary'-variable.\n",
    "Note: the number of bins is determined by simply 'number of breaks + 1'. \n",
    "With number of breaks the correlation metric CramerV increased diminishing."
   ]
  },
  {
   "cell_type": "markdown",
   "metadata": {},
   "source": [
    "# Chi-square-test and CramerV for the different solver-solutions\n",
    "The split for the different number of breaks becomes more and more a visual \"V\" in the bar-chart with having one category on the one side and the other category on the opposite side.  "
   ]
  },
  {
   "cell_type": "code",
   "execution_count": 9,
   "metadata": {},
   "outputs": [],
   "source": [
    "myAnalyser = Analyser.Analyser()"
   ]
  },
  {
   "cell_type": "markdown",
   "metadata": {},
   "source": [
    "## Categorising with 1 break having 2 bins"
   ]
  },
  {
   "cell_type": "code",
   "execution_count": 10,
   "metadata": {},
   "outputs": [
    {
     "name": "stdout",
     "output_type": "stream",
     "text": [
      "Splitting at: [51000]\n"
     ]
    },
    {
     "data": {
      "text/html": [
       "<div>\n",
       "<style scoped>\n",
       "    .dataframe tbody tr th:only-of-type {\n",
       "        vertical-align: middle;\n",
       "    }\n",
       "\n",
       "    .dataframe tbody tr th {\n",
       "        vertical-align: top;\n",
       "    }\n",
       "\n",
       "    .dataframe thead th {\n",
       "        text-align: right;\n",
       "    }\n",
       "</style>\n",
       "<table border=\"1\" class=\"dataframe\">\n",
       "  <thead>\n",
       "    <tr style=\"text-align: right;\">\n",
       "      <th></th>\n",
       "      <th>Chi-square test</th>\n",
       "      <th>results</th>\n",
       "    </tr>\n",
       "  </thead>\n",
       "  <tbody>\n",
       "    <tr>\n",
       "      <th>0</th>\n",
       "      <td>Pearson Chi-square ( 1.0) =</td>\n",
       "      <td>207.9290</td>\n",
       "    </tr>\n",
       "    <tr>\n",
       "      <th>1</th>\n",
       "      <td>p-value =</td>\n",
       "      <td>0.0000</td>\n",
       "    </tr>\n",
       "    <tr>\n",
       "      <th>2</th>\n",
       "      <td>Cramer's phi =</td>\n",
       "      <td>0.6455</td>\n",
       "    </tr>\n",
       "  </tbody>\n",
       "</table>\n",
       "</div>"
      ],
      "text/plain": [
       "                Chi-square test   results\n",
       "0  Pearson Chi-square ( 1.0) =   207.9290\n",
       "1                    p-value =     0.0000\n",
       "2               Cramer's phi =     0.6455"
      ]
     },
     "execution_count": 10,
     "metadata": {},
     "output_type": "execute_result"
    },
    {
     "data": {
      "image/png": "[encoded data removed]",
      "text/plain": [
       "<Figure size 432x288 with 1 Axes>"
      ]
     },
     "metadata": {
      "needs_background": "light"
     },
     "output_type": "display_data"
    }
   ],
   "source": [
    "bins = [int(tpe_best_container[0][str(i)]) for i in range(0, breaks[0])]\n",
    "bins.sort()\n",
    "print(\"Splitting at:\", bins)\n",
    "df['Salary_cat'] = np.digitize(df['Salary'], bins)\n",
    "myAnalyser.chi_squared_test(df['Clicked'], df['Salary_cat'])[16]"
   ]
  },
  {
   "cell_type": "markdown",
   "metadata": {},
   "source": [
    "## Categorising with 2 breaks having 3 bins"
   ]
  },
  {
   "cell_type": "code",
   "execution_count": 12,
   "metadata": {},
   "outputs": [
    {
     "name": "stdout",
     "output_type": "stream",
     "text": [
      "Splitting at: [51000, 63000]\n"
     ]
    },
    {
     "data": {
      "text/html": [
       "<div>\n",
       "<style scoped>\n",
       "    .dataframe tbody tr th:only-of-type {\n",
       "        vertical-align: middle;\n",
       "    }\n",
       "\n",
       "    .dataframe tbody tr th {\n",
       "        vertical-align: top;\n",
       "    }\n",
       "\n",
       "    .dataframe thead th {\n",
       "        text-align: right;\n",
       "    }\n",
       "</style>\n",
       "<table border=\"1\" class=\"dataframe\">\n",
       "  <thead>\n",
       "    <tr style=\"text-align: right;\">\n",
       "      <th></th>\n",
       "      <th>Chi-square test</th>\n",
       "      <th>results</th>\n",
       "    </tr>\n",
       "  </thead>\n",
       "  <tbody>\n",
       "    <tr>\n",
       "      <th>0</th>\n",
       "      <td>Pearson Chi-square ( 2.0) =</td>\n",
       "      <td>231.5395</td>\n",
       "    </tr>\n",
       "    <tr>\n",
       "      <th>1</th>\n",
       "      <td>p-value =</td>\n",
       "      <td>0.0000</td>\n",
       "    </tr>\n",
       "    <tr>\n",
       "      <th>2</th>\n",
       "      <td>Cramer's V =</td>\n",
       "      <td>0.6812</td>\n",
       "    </tr>\n",
       "  </tbody>\n",
       "</table>\n",
       "</div>"
      ],
      "text/plain": [
       "                Chi-square test   results\n",
       "0  Pearson Chi-square ( 2.0) =   231.5395\n",
       "1                    p-value =     0.0000\n",
       "2                 Cramer's V =     0.6812"
      ]
     },
     "execution_count": 12,
     "metadata": {},
     "output_type": "execute_result"
    },
    {
     "data": {
      "image/png": "[encoded data removed]",
      "text/plain": [
       "<Figure size 432x288 with 1 Axes>"
      ]
     },
     "metadata": {
      "needs_background": "light"
     },
     "output_type": "display_data"
    }
   ],
   "source": [
    "bins = [int(tpe_best_container[1][str(i)]) for i in range(0, breaks[1])]\n",
    "bins.sort()\n",
    "print(\"Splitting at:\", bins)\n",
    "df['Salary_cat'] = np.digitize(df['Salary'], bins)\n",
    "myAnalyser.chi_squared_test(df['Clicked'], df['Salary_cat'])[16]"
   ]
  },
  {
   "cell_type": "markdown",
   "metadata": {},
   "source": [
    "## Categorising having 3 breaks 4 bins"
   ]
  },
  {
   "cell_type": "code",
   "execution_count": 13,
   "metadata": {},
   "outputs": [
    {
     "name": "stdout",
     "output_type": "stream",
     "text": [
      "Splitting at: [41000, 51000, 63000]\n"
     ]
    },
    {
     "data": {
      "text/html": [
       "<div>\n",
       "<style scoped>\n",
       "    .dataframe tbody tr th:only-of-type {\n",
       "        vertical-align: middle;\n",
       "    }\n",
       "\n",
       "    .dataframe tbody tr th {\n",
       "        vertical-align: top;\n",
       "    }\n",
       "\n",
       "    .dataframe thead th {\n",
       "        text-align: right;\n",
       "    }\n",
       "</style>\n",
       "<table border=\"1\" class=\"dataframe\">\n",
       "  <thead>\n",
       "    <tr style=\"text-align: right;\">\n",
       "      <th></th>\n",
       "      <th>Chi-square test</th>\n",
       "      <th>results</th>\n",
       "    </tr>\n",
       "  </thead>\n",
       "  <tbody>\n",
       "    <tr>\n",
       "      <th>0</th>\n",
       "      <td>Pearson Chi-square ( 3.0) =</td>\n",
       "      <td>237.1739</td>\n",
       "    </tr>\n",
       "    <tr>\n",
       "      <th>1</th>\n",
       "      <td>p-value =</td>\n",
       "      <td>0.0000</td>\n",
       "    </tr>\n",
       "    <tr>\n",
       "      <th>2</th>\n",
       "      <td>Cramer's V =</td>\n",
       "      <td>0.6894</td>\n",
       "    </tr>\n",
       "  </tbody>\n",
       "</table>\n",
       "</div>"
      ],
      "text/plain": [
       "                Chi-square test   results\n",
       "0  Pearson Chi-square ( 3.0) =   237.1739\n",
       "1                    p-value =     0.0000\n",
       "2                 Cramer's V =     0.6894"
      ]
     },
     "execution_count": 13,
     "metadata": {},
     "output_type": "execute_result"
    },
    {
     "data": {
      "image/png": "[encoded data removed]",
      "text/plain": [
       "<Figure size 432x288 with 1 Axes>"
      ]
     },
     "metadata": {
      "needs_background": "light"
     },
     "output_type": "display_data"
    }
   ],
   "source": [
    "bins = [int(tpe_best_container[2][str(i)]) for i in range(0, breaks[2])]\n",
    "bins.sort()\n",
    "print(\"Splitting at:\", bins)\n",
    "df['Salary_cat'] = np.digitize(df['Salary'], bins)\n",
    "myAnalyser.chi_squared_test(df['Clicked'], df['Salary_cat'])[16]"
   ]
  },
  {
   "cell_type": "markdown",
   "metadata": {},
   "source": [
    "## Categorising having 4 breaks 5 bins"
   ]
  },
  {
   "cell_type": "code",
   "execution_count": 15,
   "metadata": {},
   "outputs": [
    {
     "name": "stdout",
     "output_type": "stream",
     "text": [
      "Splitting at: [43000, 51000, 58000, 63000]\n"
     ]
    },
    {
     "data": {
      "text/html": [
       "<div>\n",
       "<style scoped>\n",
       "    .dataframe tbody tr th:only-of-type {\n",
       "        vertical-align: middle;\n",
       "    }\n",
       "\n",
       "    .dataframe tbody tr th {\n",
       "        vertical-align: top;\n",
       "    }\n",
       "\n",
       "    .dataframe thead th {\n",
       "        text-align: right;\n",
       "    }\n",
       "</style>\n",
       "<table border=\"1\" class=\"dataframe\">\n",
       "  <thead>\n",
       "    <tr style=\"text-align: right;\">\n",
       "      <th></th>\n",
       "      <th>Chi-square test</th>\n",
       "      <th>results</th>\n",
       "    </tr>\n",
       "  </thead>\n",
       "  <tbody>\n",
       "    <tr>\n",
       "      <th>0</th>\n",
       "      <td>Pearson Chi-square ( 4.0) =</td>\n",
       "      <td>238.2114</td>\n",
       "    </tr>\n",
       "    <tr>\n",
       "      <th>1</th>\n",
       "      <td>p-value =</td>\n",
       "      <td>0.0000</td>\n",
       "    </tr>\n",
       "    <tr>\n",
       "      <th>2</th>\n",
       "      <td>Cramer's V =</td>\n",
       "      <td>0.6909</td>\n",
       "    </tr>\n",
       "  </tbody>\n",
       "</table>\n",
       "</div>"
      ],
      "text/plain": [
       "                Chi-square test   results\n",
       "0  Pearson Chi-square ( 4.0) =   238.2114\n",
       "1                    p-value =     0.0000\n",
       "2                 Cramer's V =     0.6909"
      ]
     },
     "execution_count": 15,
     "metadata": {},
     "output_type": "execute_result"
    },
    {
     "data": {
      "image/png": "[encoded data removed]",
      "text/plain": [
       "<Figure size 432x288 with 1 Axes>"
      ]
     },
     "metadata": {
      "needs_background": "light"
     },
     "output_type": "display_data"
    }
   ],
   "source": [
    "bins = [int(tpe_best_container[3][str(i)]) for i in range(0, breaks[3])]\n",
    "bins.sort()\n",
    "print(\"Splitting at:\", bins)\n",
    "df['Salary_cat'] = np.digitize(df['Salary'], bins)\n",
    "myAnalyser.chi_squared_test(df['Clicked'], df['Salary_cat'])[16]"
   ]
  },
  {
   "cell_type": "markdown",
   "metadata": {},
   "source": [
    "## Categorising having 5 breaks 6 bins"
   ]
  },
  {
   "cell_type": "code",
   "execution_count": 16,
   "metadata": {},
   "outputs": [
    {
     "name": "stdout",
     "output_type": "stream",
     "text": [
      "Splitting at: [31000, 43000, 51000, 61000, 69000]\n"
     ]
    },
    {
     "data": {
      "text/html": [
       "<div>\n",
       "<style scoped>\n",
       "    .dataframe tbody tr th:only-of-type {\n",
       "        vertical-align: middle;\n",
       "    }\n",
       "\n",
       "    .dataframe tbody tr th {\n",
       "        vertical-align: top;\n",
       "    }\n",
       "\n",
       "    .dataframe thead th {\n",
       "        text-align: right;\n",
       "    }\n",
       "</style>\n",
       "<table border=\"1\" class=\"dataframe\">\n",
       "  <thead>\n",
       "    <tr style=\"text-align: right;\">\n",
       "      <th></th>\n",
       "      <th>Chi-square test</th>\n",
       "      <th>results</th>\n",
       "    </tr>\n",
       "  </thead>\n",
       "  <tbody>\n",
       "    <tr>\n",
       "      <th>0</th>\n",
       "      <td>Pearson Chi-square ( 5.0) =</td>\n",
       "      <td>239.2498</td>\n",
       "    </tr>\n",
       "    <tr>\n",
       "      <th>1</th>\n",
       "      <td>p-value =</td>\n",
       "      <td>0.0000</td>\n",
       "    </tr>\n",
       "    <tr>\n",
       "      <th>2</th>\n",
       "      <td>Cramer's V =</td>\n",
       "      <td>0.6924</td>\n",
       "    </tr>\n",
       "  </tbody>\n",
       "</table>\n",
       "</div>"
      ],
      "text/plain": [
       "                Chi-square test   results\n",
       "0  Pearson Chi-square ( 5.0) =   239.2498\n",
       "1                    p-value =     0.0000\n",
       "2                 Cramer's V =     0.6924"
      ]
     },
     "execution_count": 16,
     "metadata": {},
     "output_type": "execute_result"
    },
    {
     "data": {
      "image/png": "[encoded data removed]",
      "text/plain": [
       "<Figure size 432x288 with 1 Axes>"
      ]
     },
     "metadata": {
      "needs_background": "light"
     },
     "output_type": "display_data"
    }
   ],
   "source": [
    "bins = [int(tpe_best_container[4][str(i)]) for i in range(0, breaks[4])]\n",
    "bins.sort()\n",
    "print(\"Splitting at:\", bins)\n",
    "df['Salary_cat'] = np.digitize(df['Salary'], bins)\n",
    "myAnalyser.chi_squared_test(df['Clicked'], df['Salary_cat'])[16]"
   ]
  },
  {
   "cell_type": "markdown",
   "metadata": {},
   "source": [
    "## Categorising having 10 breaks 11 bins"
   ]
  },
  {
   "cell_type": "code",
   "execution_count": 18,
   "metadata": {},
   "outputs": [
    {
     "data": {
      "text/html": [
       "<div>\n",
       "<style scoped>\n",
       "    .dataframe tbody tr th:only-of-type {\n",
       "        vertical-align: middle;\n",
       "    }\n",
       "\n",
       "    .dataframe tbody tr th {\n",
       "        vertical-align: top;\n",
       "    }\n",
       "\n",
       "    .dataframe thead th {\n",
       "        text-align: right;\n",
       "    }\n",
       "</style>\n",
       "<table border=\"1\" class=\"dataframe\">\n",
       "  <thead>\n",
       "    <tr style=\"text-align: right;\">\n",
       "      <th></th>\n",
       "      <th>Chi-square test</th>\n",
       "      <th>results</th>\n",
       "    </tr>\n",
       "  </thead>\n",
       "  <tbody>\n",
       "    <tr>\n",
       "      <th>0</th>\n",
       "      <td>Pearson Chi-square ( 10.0) =</td>\n",
       "      <td>242.7668</td>\n",
       "    </tr>\n",
       "    <tr>\n",
       "      <th>1</th>\n",
       "      <td>p-value =</td>\n",
       "      <td>0.0000</td>\n",
       "    </tr>\n",
       "    <tr>\n",
       "      <th>2</th>\n",
       "      <td>Cramer's V =</td>\n",
       "      <td>0.6975</td>\n",
       "    </tr>\n",
       "  </tbody>\n",
       "</table>\n",
       "</div>"
      ],
      "text/plain": [
       "                 Chi-square test   results\n",
       "0  Pearson Chi-square ( 10.0) =   242.7668\n",
       "1                     p-value =     0.0000\n",
       "2                  Cramer's V =     0.6975"
      ]
     },
     "execution_count": 18,
     "metadata": {},
     "output_type": "execute_result"
    },
    {
     "data": {
      "image/png": "[encoded data removed]",
      "text/plain": [
       "<Figure size 432x288 with 1 Axes>"
      ]
     },
     "metadata": {
      "needs_background": "light"
     },
     "output_type": "display_data"
    }
   ],
   "source": [
    "bins = [int(tpe_best_container[5][str(i)]) for i in range(0, breaks[5])]\n",
    "bins.sort()\n",
    "#print(\"Splitting at:\", bins)\n",
    "df['Salary_cat'] = np.digitize(df['Salary'], bins)\n",
    "myAnalyser.chi_squared_test(df['Clicked'], df['Salary_cat'],11)[16]"
   ]
  },
  {
   "cell_type": "markdown",
   "metadata": {},
   "source": [
    "## Categorising having 20 breaks 21 bins"
   ]
  },
  {
   "cell_type": "code",
   "execution_count": 19,
   "metadata": {},
   "outputs": [
    {
     "data": {
      "text/html": [
       "<div>\n",
       "<style scoped>\n",
       "    .dataframe tbody tr th:only-of-type {\n",
       "        vertical-align: middle;\n",
       "    }\n",
       "\n",
       "    .dataframe tbody tr th {\n",
       "        vertical-align: top;\n",
       "    }\n",
       "\n",
       "    .dataframe thead th {\n",
       "        text-align: right;\n",
       "    }\n",
       "</style>\n",
       "<table border=\"1\" class=\"dataframe\">\n",
       "  <thead>\n",
       "    <tr style=\"text-align: right;\">\n",
       "      <th></th>\n",
       "      <th>Chi-square test</th>\n",
       "      <th>results</th>\n",
       "    </tr>\n",
       "  </thead>\n",
       "  <tbody>\n",
       "    <tr>\n",
       "      <th>0</th>\n",
       "      <td>Pearson Chi-square ( 19.0) =</td>\n",
       "      <td>246.2365</td>\n",
       "    </tr>\n",
       "    <tr>\n",
       "      <th>1</th>\n",
       "      <td>p-value =</td>\n",
       "      <td>0.0000</td>\n",
       "    </tr>\n",
       "    <tr>\n",
       "      <th>2</th>\n",
       "      <td>Cramer's V =</td>\n",
       "      <td>0.7025</td>\n",
       "    </tr>\n",
       "  </tbody>\n",
       "</table>\n",
       "</div>"
      ],
      "text/plain": [
       "                 Chi-square test   results\n",
       "0  Pearson Chi-square ( 19.0) =   246.2365\n",
       "1                     p-value =     0.0000\n",
       "2                  Cramer's V =     0.7025"
      ]
     },
     "execution_count": 19,
     "metadata": {},
     "output_type": "execute_result"
    },
    {
     "data": {
      "image/png": "[encoded data removed]",
      "text/plain": [
       "<Figure size 432x288 with 1 Axes>"
      ]
     },
     "metadata": {
      "needs_background": "light"
     },
     "output_type": "display_data"
    }
   ],
   "source": [
    "bins = [int(tpe_best_container[6][str(i)]) for i in range(0, breaks[6])]\n",
    "bins.sort()\n",
    "#print(\"Splitting at:\", bins)\n",
    "df['Salary_cat'] = np.digitize(df['Salary'], bins)\n",
    "myAnalyser.chi_squared_test(df['Clicked'], df['Salary_cat'],21)[16]"
   ]
  },
  {
   "cell_type": "markdown",
   "metadata": {},
   "source": [
    "## Categorising having 50 breaks 51 bins"
   ]
  },
  {
   "cell_type": "code",
   "execution_count": 20,
   "metadata": {},
   "outputs": [
    {
     "data": {
      "text/html": [
       "<div>\n",
       "<style scoped>\n",
       "    .dataframe tbody tr th:only-of-type {\n",
       "        vertical-align: middle;\n",
       "    }\n",
       "\n",
       "    .dataframe tbody tr th {\n",
       "        vertical-align: top;\n",
       "    }\n",
       "\n",
       "    .dataframe thead th {\n",
       "        text-align: right;\n",
       "    }\n",
       "</style>\n",
       "<table border=\"1\" class=\"dataframe\">\n",
       "  <thead>\n",
       "    <tr style=\"text-align: right;\">\n",
       "      <th></th>\n",
       "      <th>Chi-square test</th>\n",
       "      <th>results</th>\n",
       "    </tr>\n",
       "  </thead>\n",
       "  <tbody>\n",
       "    <tr>\n",
       "      <th>0</th>\n",
       "      <td>Pearson Chi-square ( 37.0) =</td>\n",
       "      <td>252.8758</td>\n",
       "    </tr>\n",
       "    <tr>\n",
       "      <th>1</th>\n",
       "      <td>p-value =</td>\n",
       "      <td>0.0000</td>\n",
       "    </tr>\n",
       "    <tr>\n",
       "      <th>2</th>\n",
       "      <td>Cramer's V =</td>\n",
       "      <td>0.7119</td>\n",
       "    </tr>\n",
       "  </tbody>\n",
       "</table>\n",
       "</div>"
      ],
      "text/plain": [
       "                 Chi-square test   results\n",
       "0  Pearson Chi-square ( 37.0) =   252.8758\n",
       "1                     p-value =     0.0000\n",
       "2                  Cramer's V =     0.7119"
      ]
     },
     "execution_count": 20,
     "metadata": {},
     "output_type": "execute_result"
    },
    {
     "data": {
      "image/png": "[encoded data removed]",
      "text/plain": [
       "<Figure size 432x288 with 1 Axes>"
      ]
     },
     "metadata": {
      "needs_background": "light"
     },
     "output_type": "display_data"
    }
   ],
   "source": [
    "bins = [int(tpe_best_container[7][str(i)]) for i in range(0, breaks[7])]\n",
    "bins.sort()\n",
    "#print(\"Splitting at:\", bins)\n",
    "df['Salary_cat'] = np.digitize(df['Salary'], bins)\n",
    "myAnalyser.chi_squared_test(df['Clicked'], df['Salary_cat'],51)[16]"
   ]
  },
  {
   "cell_type": "markdown",
   "metadata": {},
   "source": [
    "# Cycle-evaluation for CramerV\n",
    "Run the whole cycle (all combinations for different number of splits.\n",
    "A step-size of 1K is assumed.\n",
    "Comparision with the solver solutotion i.e., did the solver find the global optimum ? "
   ]
  },
  {
   "cell_type": "code",
   "execution_count": 21,
   "metadata": {
    "scrolled": true
   },
   "outputs": [
    {
     "data": {
      "text/html": [
       "<div>\n",
       "<style scoped>\n",
       "    .dataframe tbody tr th:only-of-type {\n",
       "        vertical-align: middle;\n",
       "    }\n",
       "\n",
       "    .dataframe tbody tr th {\n",
       "        vertical-align: top;\n",
       "    }\n",
       "\n",
       "    .dataframe thead th {\n",
       "        text-align: right;\n",
       "    }\n",
       "</style>\n",
       "<table border=\"1\" class=\"dataframe\">\n",
       "  <thead>\n",
       "    <tr style=\"text-align: right;\">\n",
       "      <th></th>\n",
       "      <th>Breaks</th>\n",
       "      <th>Cycle_Length</th>\n",
       "    </tr>\n",
       "  </thead>\n",
       "  <tbody>\n",
       "    <tr>\n",
       "      <th>0</th>\n",
       "      <td>1</td>\n",
       "      <td>100</td>\n",
       "    </tr>\n",
       "    <tr>\n",
       "      <th>1</th>\n",
       "      <td>2</td>\n",
       "      <td>4,950</td>\n",
       "    </tr>\n",
       "    <tr>\n",
       "      <th>2</th>\n",
       "      <td>3</td>\n",
       "      <td>161,700</td>\n",
       "    </tr>\n",
       "    <tr>\n",
       "      <th>3</th>\n",
       "      <td>4</td>\n",
       "      <td>3,921,225</td>\n",
       "    </tr>\n",
       "    <tr>\n",
       "      <th>4</th>\n",
       "      <td>5</td>\n",
       "      <td>75,287,520</td>\n",
       "    </tr>\n",
       "    <tr>\n",
       "      <th>5</th>\n",
       "      <td>10</td>\n",
       "      <td>17,310,309,456,440</td>\n",
       "    </tr>\n",
       "    <tr>\n",
       "      <th>6</th>\n",
       "      <td>20</td>\n",
       "      <td>535,983,370,403,809,591,296</td>\n",
       "    </tr>\n",
       "    <tr>\n",
       "      <th>7</th>\n",
       "      <td>50</td>\n",
       "      <td>100,891,344,545,564,149,295,156,822,016</td>\n",
       "    </tr>\n",
       "  </tbody>\n",
       "</table>\n",
       "</div>"
      ],
      "text/plain": [
       "   Breaks                            Cycle_Length\n",
       "0       1                                     100\n",
       "1       2                                   4,950\n",
       "2       3                                 161,700\n",
       "3       4                               3,921,225\n",
       "4       5                              75,287,520\n",
       "5      10                      17,310,309,456,440\n",
       "6      20             535,983,370,403,809,591,296\n",
       "7      50 100,891,344,545,564,149,295,156,822,016"
      ]
     },
     "execution_count": 21,
     "metadata": {},
     "output_type": "execute_result"
    }
   ],
   "source": [
    "temp = [[0 for x in range(0,len(breaks))] for y in range(0,2)]\n",
    "\n",
    "for i in range(0, len(breaks)):\n",
    "    temp[0][i] = breaks[i]\n",
    "    temp[1][i] = scipy.special.binom(100, breaks[i])\n",
    "\n",
    "pd.options.display.float_format = '{:,.0f}'.format  \n",
    "pd.DataFrame(temp).transpose().rename(columns={0: \"Breaks\", 1: \"Cycle_Length\"})\n"
   ]
  },
  {
   "cell_type": "markdown",
   "metadata": {},
   "source": [
    "Already with 5 breaks/splits there are about 75 million combinations to evaluate."
   ]
  },
  {
   "cell_type": "markdown",
   "metadata": {},
   "source": [
    "## Functionality"
   ]
  },
  {
   "cell_type": "code",
   "execution_count": 94,
   "metadata": {},
   "outputs": [],
   "source": [
    "# create recursive the next combination \n",
    "def kombination(events, field, level, outcomes):\n",
    "    field[level] = (field[level] + 1) % outcomes[level]\n",
    "    if field[level] == 0 and level + 1 < events:\n",
    "        kombination(events, field, level + 1, outcomes)\n",
    "    return field"
   ]
  },
  {
   "cell_type": "markdown",
   "metadata": {},
   "source": [
    "## Cycle for 2 breaks\n",
    "Cycle_length = (100,2) = 4950 "
   ]
  },
  {
   "cell_type": "markdown",
   "metadata": {},
   "source": [
    "### Cycle for 2 breaks - evaluation"
   ]
  },
  {
   "cell_type": "code",
   "execution_count": 84,
   "metadata": {},
   "outputs": [],
   "source": [
    "num = 100\n",
    "events = 2\n",
    "outcomes = [num, num]\n",
    "tot = num*num\n",
    "combo = [0,0]\n",
    "combo_container = []\n",
    "combo_matrix = [[0 for x in range(num)] for y in range(num)]\n",
    "i = 0\n",
    "tot_10perc = int(tot * 0.10)"
   ]
  },
  {
   "cell_type": "code",
   "execution_count": 85,
   "metadata": {},
   "outputs": [
    {
     "name": "stdout",
     "output_type": "stream",
     "text": [
      "1000 steps done of 10000 in % 10.0 %\n",
      "2000 steps done of 10000 in % 20.0 %\n",
      "3000 steps done of 10000 in % 30.0 %\n",
      "4000 steps done of 10000 in % 40.0 %\n",
      "5000 steps done of 10000 in % 50.0 %\n",
      "6000 steps done of 10000 in % 60.0 %\n",
      "7000 steps done of 10000 in % 70.0 %\n",
      "8000 steps done of 10000 in % 80.0 %\n",
      "9000 steps done of 10000 in % 90.0 %\n",
      "10000 steps done of 10000 in % 100.0 %\n"
     ]
    }
   ],
   "source": [
    "while True:\n",
    "    first_break_raw  = (combo[0])\n",
    "    second_break_raw = (combo[1])\n",
    "    first_break      = (combo[0]+1)*1000\n",
    "    second_break     = (combo[1]+1)*1000\n",
    "    #print(i+1, \". \", first_break, \"-\", second_break) \n",
    "    if (i+1)%tot_10perc == 0:\n",
    "        print(i+1, \"steps done of\", tot, \"in %\", 100*float(i+1)/float(tot),\"%\")\n",
    "    if first_break_raw < second_break_raw:\n",
    "        temp = df\n",
    "        bins = [first_break, second_break]\n",
    "        group_names = [i for i in range(0, len(bins) - 1)]\n",
    "        temp['Salary_cat'] = np.digitize(temp['Salary'], bins)\n",
    "        results = np.array(rp.crosstab(temp['Clicked'], temp['Salary_cat'], test= 'chi-square')[1])[2][1]       \n",
    "        combo_matrix[first_break_raw][second_break_raw] = results        \n",
    "        combo_container.append([first_break,second_break,results])\n",
    "    combo = kombination(events, combo, 0, outcomes)   \n",
    "    i = i+1\n",
    "    if(i >= tot):  \n",
    "        break    "
   ]
  },
  {
   "cell_type": "markdown",
   "metadata": {},
   "source": [
    "Ran through all combinations (here crossproduct) in a do-while-loop. Only for relevant combinations: evaluate CramerV and store results in containers."
   ]
  },
  {
   "cell_type": "markdown",
   "metadata": {},
   "source": [
    "### Cycle for 2 breaks - results"
   ]
  },
  {
   "cell_type": "code",
   "execution_count": 97,
   "metadata": {},
   "outputs": [
    {
     "data": {
      "text/html": [
       "<div>\n",
       "<style scoped>\n",
       "    .dataframe tbody tr th:only-of-type {\n",
       "        vertical-align: middle;\n",
       "    }\n",
       "\n",
       "    .dataframe tbody tr th {\n",
       "        vertical-align: top;\n",
       "    }\n",
       "\n",
       "    .dataframe thead th {\n",
       "        text-align: right;\n",
       "    }\n",
       "</style>\n",
       "<table border=\"1\" class=\"dataframe\">\n",
       "  <thead>\n",
       "    <tr style=\"text-align: right;\">\n",
       "      <th></th>\n",
       "      <th>First_break</th>\n",
       "      <th>Second_break</th>\n",
       "      <th>CramerV</th>\n",
       "    </tr>\n",
       "  </thead>\n",
       "  <tbody>\n",
       "    <tr>\n",
       "      <th>1941</th>\n",
       "      <td>51000</td>\n",
       "      <td>63000</td>\n",
       "      <td>0.6812</td>\n",
       "    </tr>\n",
       "    <tr>\n",
       "      <th>1880</th>\n",
       "      <td>51000</td>\n",
       "      <td>62000</td>\n",
       "      <td>0.6797</td>\n",
       "    </tr>\n",
       "    <tr>\n",
       "      <th>2261</th>\n",
       "      <td>51000</td>\n",
       "      <td>68000</td>\n",
       "      <td>0.6767</td>\n",
       "    </tr>\n",
       "    <tr>\n",
       "      <th>2195</th>\n",
       "      <td>51000</td>\n",
       "      <td>67000</td>\n",
       "      <td>0.6755</td>\n",
       "    </tr>\n",
       "    <tr>\n",
       "      <th>2130</th>\n",
       "      <td>51000</td>\n",
       "      <td>66000</td>\n",
       "      <td>0.6753</td>\n",
       "    </tr>\n",
       "    <tr>\n",
       "      <th>1820</th>\n",
       "      <td>51000</td>\n",
       "      <td>61000</td>\n",
       "      <td>0.6749</td>\n",
       "    </tr>\n",
       "    <tr>\n",
       "      <th>2328</th>\n",
       "      <td>51000</td>\n",
       "      <td>69000</td>\n",
       "      <td>0.6749</td>\n",
       "    </tr>\n",
       "    <tr>\n",
       "      <th>2066</th>\n",
       "      <td>51000</td>\n",
       "      <td>65000</td>\n",
       "      <td>0.6739</td>\n",
       "    </tr>\n",
       "    <tr>\n",
       "      <th>2003</th>\n",
       "      <td>51000</td>\n",
       "      <td>64000</td>\n",
       "      <td>0.6734</td>\n",
       "    </tr>\n",
       "    <tr>\n",
       "      <th>1761</th>\n",
       "      <td>51000</td>\n",
       "      <td>60000</td>\n",
       "      <td>0.6730</td>\n",
       "    </tr>\n",
       "  </tbody>\n",
       "</table>\n",
       "</div>"
      ],
      "text/plain": [
       "      First_break  Second_break  CramerV\n",
       "1941        51000         63000   0.6812\n",
       "1880        51000         62000   0.6797\n",
       "2261        51000         68000   0.6767\n",
       "2195        51000         67000   0.6755\n",
       "2130        51000         66000   0.6753\n",
       "1820        51000         61000   0.6749\n",
       "2328        51000         69000   0.6749\n",
       "2066        51000         65000   0.6739\n",
       "2003        51000         64000   0.6734\n",
       "1761        51000         60000   0.6730"
      ]
     },
     "execution_count": 97,
     "metadata": {},
     "output_type": "execute_result"
    }
   ],
   "source": [
    "pd.options.display.float_format = '{:,.4f}'.format  \n",
    "pd.DataFrame(combo_container).sort_values(by=[2],ascending=False).rename(columns={0: \"First_break\", 1: \"Second_break\", 2:'CramerV'}).head(10)"
   ]
  },
  {
   "cell_type": "markdown",
   "metadata": {},
   "source": [
    "The 10 top CramerV' values. The solver achieved that result after 646 trials."
   ]
  },
  {
   "cell_type": "code",
   "execution_count": 175,
   "metadata": {
    "scrolled": false
   },
   "outputs": [
    {
     "data": {
      "image/png": "[encoded data removed]",
      "text/plain": [
       "<Figure size 432x288 with 1 Axes>"
      ]
     },
     "metadata": {
      "needs_background": "light"
     },
     "output_type": "display_data"
    }
   ],
   "source": [
    "plt.plot([tpe_trials_conatiner[0].results[i]['loss']*-1 for i in range(0, 1000)])\n",
    "x = tpe_trials_conatiner[0].best_trial['tid']\n",
    "y = -tpe_trials_conatiner[0].best_trial['result']['loss']\n",
    "plt.plot(x, y, 'o')\n",
    "plt.axhline(y, c = \"orange\")\n",
    "plt.title(\"Solver evolution\")\n",
    "plt.legend(['Solver iterations','Global Optimum'])\n",
    "plt.show()"
   ]
  },
  {
   "cell_type": "markdown",
   "metadata": {},
   "source": [
    "Orange horizontal line represents the global optimum, which was triggered by the solver after 646 trails. "
   ]
  },
  {
   "cell_type": "code",
   "execution_count": 90,
   "metadata": {},
   "outputs": [
    {
     "data": {
      "image/png": "[encoded data removed]",
      "text/plain": [
       "<Figure size 432x288 with 2 Axes>"
      ]
     },
     "metadata": {
      "needs_background": "light"
     },
     "output_type": "display_data"
    }
   ],
   "source": [
    "# Create heatmap of the CramerV'values and dimensions: First_break by Second_break\n",
    "temp = pd.DataFrame(combo_matrix)\n",
    "temp['First_break'] = (temp.index+1)*1000\n",
    "temp = temp.set_index('First_break').transpose()\n",
    "temp['Second_break']= (temp.index+1)*1000\n",
    "temp = temp.set_index('Second_break').transpose()\n",
    "\n",
    "ax = sns.heatmap(temp)"
   ]
  },
  {
   "cell_type": "markdown",
   "metadata": {},
   "source": [
    "The optimal spliting pairs with the highest CramerV' values  can be found in the centre resp. leaving one splitting point quite centered."
   ]
  },
  {
   "cell_type": "code",
   "execution_count": null,
   "metadata": {},
   "outputs": [],
   "source": []
  }
 ],
 "metadata": {
  "kernelspec": {
   "display_name": "Python 3",
   "language": "python",
   "name": "python3"
  },
  "language_info": {
   "codemirror_mode": {
    "name": "ipython",
    "version": 3
   },
   "file_extension": ".py",
   "mimetype": "text/x-python",
   "name": "python",
   "nbconvert_exporter": "python",
   "pygments_lexer": "ipython3",
   "version": "3.7.1"
  },
  "toc": {
   "base_numbering": 1,
   "nav_menu": {},
   "number_sections": true,
   "sideBar": true,
   "skip_h1_title": false,
   "title_cell": "Table of Contents",
   "title_sidebar": "Contents",
   "toc_cell": false,
   "toc_position": {
    "height": "calc(100% - 180px)",
    "left": "10px",
    "top": "150px",
    "width": "210.8px"
   },
   "toc_section_display": true,
   "toc_window_display": false
  },
  "varInspector": {
   "cols": {
    "lenName": 16,
    "lenType": 16,
    "lenVar": 40
   },
   "kernels_config": {
    "python": {
     "delete_cmd_postfix": "",
     "delete_cmd_prefix": "del ",
     "library": "var_list.py",
     "varRefreshCmd": "print(var_dic_list())"
    },
    "r": {
     "delete_cmd_postfix": ") ",
     "delete_cmd_prefix": "rm(",
     "library": "var_list.r",
     "varRefreshCmd": "cat(var_dic_list()) "
    }
   },
   "types_to_exclude": [
    "module",
    "function",
    "builtin_function_or_method",
    "instance",
    "_Feature"
   ],
   "window_display": false
  }
 },
 "nbformat": 4,
 "nbformat_minor": 2
}
