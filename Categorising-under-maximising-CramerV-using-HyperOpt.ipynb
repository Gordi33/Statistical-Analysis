{
 "cells": [
  {
   "cell_type": "markdown",
   "metadata": {},
   "source": [
    "# Imports"
   ]
  },
  {
   "cell_type": "code",
   "execution_count": 37,
   "metadata": {},
   "outputs": [],
   "source": [
    "%matplotlib inline\n",
    "import sys\n",
    "import pandas as pd\n",
    "import numpy as np\n",
    "import matplotlib.pyplot as plt\n",
    "import seaborn as sns\n",
    "import warnings\n",
    "warnings.simplefilter(\"ignore\")\n",
    "import Analyser\n",
    "import researchpy as rp\n",
    "from hyperopt import hp\n",
    "from hyperopt import rand, tpe\n",
    "from hyperopt import Trials\n",
    "from hyperopt import fmin"
   ]
  },
  {
   "cell_type": "markdown",
   "metadata": {},
   "source": [
    "# Read data"
   ]
  },
  {
   "cell_type": "code",
   "execution_count": 2,
   "metadata": {},
   "outputs": [],
   "source": [
    "df = pd.read_csv('Facebook_Ads.csv', encoding='ISO-8859-1')"
   ]
  },
  {
   "cell_type": "markdown",
   "metadata": {},
   "source": [
    "# Create and set-up Solver solution\n",
    "Firstly, define space, a dictionary with the desired splits and their uniform distribution for searching. \n",
    "Secondly, define objective-function, which bins the metric variable \"salary\" according the number of splits. \n",
    "Thirdly, apply the solver for the different splits/breaks/bins to find the maximum correlation (CramerV) between the 'Clicked' and previous binned 'Salary_categorized' variable. "
   ]
  },
  {
   "cell_type": "code",
   "execution_count": 4,
   "metadata": {
    "code_folding": []
   },
   "outputs": [],
   "source": [
    "# Sets up a dictionary for the binning. Each element defines a split with their distribution.\n",
    "# Number of splits plus the range needs to be defined.\n",
    "def get_space(p_breaks, p_min, p_max): \n",
    "    dicts = {}\n",
    "    keys = range(p_breaks)\n",
    "    for i in keys:\n",
    "        dicts[i] = hp.uniform(str(i), p_min, p_max)\n",
    "    return dicts\n",
    "\n",
    "# objective-function to MINIMIZE !!! for the solver\n",
    "# Salary variable is binned accoring the input space.\n",
    "# CramerV value (for Clicked and Salary_categorized) is picked up (negative) to minimize.\n",
    "def objectiveX(space):\n",
    "    temp = df\n",
    "    spaceList = []\n",
    "    spaceList = [int(space[i]) for i in range(0, len(space))]\n",
    "    bins = spaceList\n",
    "    bins.sort()\n",
    "    group_names = [i for i in range(0, len(bins) - 1)]\n",
    "    temp['Salary_cat'] = np.digitize(temp['Salary'], bins)\n",
    "    results = np.array(rp.crosstab(temp['Clicked'], temp['Salary_cat'], test= 'chi-square')[1])[2][1]\n",
    "    del bins\n",
    "    return -results"
   ]
  },
  {
   "cell_type": "code",
   "execution_count": 5,
   "metadata": {},
   "outputs": [
    {
     "name": "stdout",
     "output_type": "stream",
     "text": [
      "2  Breaking points considered\n",
      "100%|██████████| 1000/1000 [02:27<00:00,  6.39trial/s, best loss: -0.6791]\n",
      "3  Breaking points considered\n",
      "100%|██████████| 1000/1000 [02:41<00:00,  6.15trial/s, best loss: -0.6869]\n",
      "4  Breaking points considered\n",
      "100%|██████████| 1000/1000 [02:57<00:00,  5.43trial/s, best loss: -0.6886]\n",
      "5  Breaking points considered\n",
      "100%|██████████| 1000/1000 [03:04<00:00,  5.07trial/s, best loss: -0.6886]\n",
      "10  Breaking points considered\n",
      "100%|██████████| 1000/1000 [04:14<00:00,  3.42trial/s, best loss: -0.6961]\n",
      "20  Breaking points considered\n",
      "100%|██████████| 1000/1000 [06:48<00:00,  2.29trial/s, best loss: -0.7075]\n",
      "50  Breaking points considered\n",
      "100%|██████████| 1000/1000 [12:55<00:00,  1.23s/trial, best loss: -0.725]\n",
      "100  Breaking points considered\n",
      "100%|██████████| 1000/1000 [24:31<00:00,  1.99s/trial, best loss: -0.754]\n"
     ]
    }
   ],
   "source": [
    "# Set-up the algorithms and define the number of desired breaks\n",
    "tpe_algo              = tpe.suggest\n",
    "rand_algo             = rand.suggest\n",
    "tpe_best_container    = []\n",
    "tpe_trials_conatiner  = []\n",
    "breaks                = [2,3,4,5,10,20,50,100]\n",
    "\n",
    "for i in breaks:\n",
    "    print(i, ' Breaking points considered')\n",
    "    \n",
    "    space = get_space(i, df['Salary'].min(), df['Salary'].max())\n",
    "    tpe_trials  = Trials()\n",
    "    #rand_trials = Trials()\n",
    "    tpe_trials_conatiner.append(tpe_trials)\n",
    "    \n",
    "    tpe_best = fmin(fn=objectiveX, \n",
    "                    space=space, \n",
    "                    algo=tpe_algo,       # rand_algo  \n",
    "                    trials=tpe_trials,   # rand_trials \n",
    "                    max_evals=1000, \n",
    "                    rstate= np.random.RandomState(50))\n",
    "    \n",
    "    tpe_best_container.append(tpe_best)"
   ]
  },
  {
   "cell_type": "code",
   "execution_count": 70,
   "metadata": {},
   "outputs": [
    {
     "data": {
      "image/png": "[encoded data removed]",
      "text/plain": [
       "<Figure size 432x288 with 1 Axes>"
      ]
     },
     "metadata": {
      "needs_background": "light"
     },
     "output_type": "display_data"
    }
   ],
   "source": [
    "CramerVs = [-tpe_trials_conatiner[i].best_trial['result']['loss'] for i in range(0, len(breaks))]\n",
    "plt.scatter(breaks,CramerVs)\n",
    "plt.show()"
   ]
  },
  {
   "cell_type": "markdown",
   "metadata": {},
   "source": [
    "Ran for each number of breaks [2,3,4,5,10,20,50,100] 1000 trials to maximise the correlation metric CramerV and in finding the optimum breaks in discretizing/binning the 'Salary'-variable.\n",
    "Note: the number of bins is determined by simply 'number of breaks + 1'. \n",
    "With number of breaks the correlation metric CramerV increased slightly as well."
   ]
  },
  {
   "cell_type": "markdown",
   "metadata": {},
   "source": [
    "# Chi-square-test and CramerV for the different solver-solutions\n",
    "The split for the different number of breaks becomes more and more a visual \"V\" in the bar-chart with having one category on the one side and the other category on the opposite side.  "
   ]
  },
  {
   "cell_type": "code",
   "execution_count": 6,
   "metadata": {},
   "outputs": [],
   "source": [
    "myAnalyser = Analyser.Analyser()"
   ]
  },
  {
   "cell_type": "markdown",
   "metadata": {},
   "source": [
    "# Categorising having 3 bins"
   ]
  },
  {
   "cell_type": "code",
   "execution_count": 26,
   "metadata": {},
   "outputs": [
    {
     "name": "stdout",
     "output_type": "stream",
     "text": [
      "Splitting at: [38739, 62690]\n"
     ]
    },
    {
     "data": {
      "text/html": [
       "<div>\n",
       "<style scoped>\n",
       "    .dataframe tbody tr th:only-of-type {\n",
       "        vertical-align: middle;\n",
       "    }\n",
       "\n",
       "    .dataframe tbody tr th {\n",
       "        vertical-align: top;\n",
       "    }\n",
       "\n",
       "    .dataframe thead th {\n",
       "        text-align: right;\n",
       "    }\n",
       "</style>\n",
       "<table border=\"1\" class=\"dataframe\">\n",
       "  <thead>\n",
       "    <tr style=\"text-align: right;\">\n",
       "      <th></th>\n",
       "      <th>Chi-square test</th>\n",
       "      <th>results</th>\n",
       "    </tr>\n",
       "  </thead>\n",
       "  <tbody>\n",
       "    <tr>\n",
       "      <th>0</th>\n",
       "      <td>Pearson Chi-square ( 2.0) =</td>\n",
       "      <td>201.0135</td>\n",
       "    </tr>\n",
       "    <tr>\n",
       "      <th>1</th>\n",
       "      <td>p-value =</td>\n",
       "      <td>0.0000</td>\n",
       "    </tr>\n",
       "    <tr>\n",
       "      <th>2</th>\n",
       "      <td>Cramer's V =</td>\n",
       "      <td>0.6347</td>\n",
       "    </tr>\n",
       "  </tbody>\n",
       "</table>\n",
       "</div>"
      ],
      "text/plain": [
       "                Chi-square test   results\n",
       "0  Pearson Chi-square ( 2.0) =   201.0135\n",
       "1                    p-value =     0.0000\n",
       "2                 Cramer's V =     0.6347"
      ]
     },
     "execution_count": 26,
     "metadata": {},
     "output_type": "execute_result"
    },
    {
     "data": {
      "image/png": "[encoded data removed]",
      "text/plain": [
       "<Figure size 432x288 with 1 Axes>"
      ]
     },
     "metadata": {
      "needs_background": "light"
     },
     "output_type": "display_data"
    }
   ],
   "source": [
    "bins = [int(tpe_best_container[1][str(i)]) for i in range(0, breaks[0])]\n",
    "bins.sort()\n",
    "print(\"Splitting at:\", bins)\n",
    "df['Salary_cat'] = np.digitize(df['Salary'], bins)\n",
    "myAnalyser.chi_squared_test(df['Clicked'], df['Salary_cat'])[16]"
   ]
  },
  {
   "cell_type": "markdown",
   "metadata": {},
   "source": [
    "# Categorising having 4 bins"
   ]
  },
  {
   "cell_type": "code",
   "execution_count": 24,
   "metadata": {},
   "outputs": [
    {
     "name": "stdout",
     "output_type": "stream",
     "text": [
      "Splitting at: [38739, 51288, 62690]\n"
     ]
    },
    {
     "data": {
      "text/html": [
       "<div>\n",
       "<style scoped>\n",
       "    .dataframe tbody tr th:only-of-type {\n",
       "        vertical-align: middle;\n",
       "    }\n",
       "\n",
       "    .dataframe tbody tr th {\n",
       "        vertical-align: top;\n",
       "    }\n",
       "\n",
       "    .dataframe thead th {\n",
       "        text-align: right;\n",
       "    }\n",
       "</style>\n",
       "<table border=\"1\" class=\"dataframe\">\n",
       "  <thead>\n",
       "    <tr style=\"text-align: right;\">\n",
       "      <th></th>\n",
       "      <th>Chi-square test</th>\n",
       "      <th>results</th>\n",
       "    </tr>\n",
       "  </thead>\n",
       "  <tbody>\n",
       "    <tr>\n",
       "      <th>0</th>\n",
       "      <td>Pearson Chi-square ( 3.0) =</td>\n",
       "      <td>235.4205</td>\n",
       "    </tr>\n",
       "    <tr>\n",
       "      <th>1</th>\n",
       "      <td>p-value =</td>\n",
       "      <td>0.0000</td>\n",
       "    </tr>\n",
       "    <tr>\n",
       "      <th>2</th>\n",
       "      <td>Cramer's V =</td>\n",
       "      <td>0.6869</td>\n",
       "    </tr>\n",
       "  </tbody>\n",
       "</table>\n",
       "</div>"
      ],
      "text/plain": [
       "                Chi-square test   results\n",
       "0  Pearson Chi-square ( 3.0) =   235.4205\n",
       "1                    p-value =     0.0000\n",
       "2                 Cramer's V =     0.6869"
      ]
     },
     "execution_count": 24,
     "metadata": {},
     "output_type": "execute_result"
    },
    {
     "data": {
      "image/png": "[encoded data removed]",
      "text/plain": [
       "<Figure size 432x288 with 1 Axes>"
      ]
     },
     "metadata": {
      "needs_background": "light"
     },
     "output_type": "display_data"
    }
   ],
   "source": [
    "bins = [int(tpe_best_container[1][str(i)]) for i in range(0, breaks[1])]\n",
    "bins.sort()\n",
    "print(\"Splitting at:\", bins)\n",
    "df['Salary_cat'] = np.digitize(df['Salary'], bins)\n",
    "myAnalyser.chi_squared_test(df['Clicked'], df['Salary_cat'])[16]"
   ]
  },
  {
   "cell_type": "markdown",
   "metadata": {},
   "source": [
    "# Categorising having 5 bins"
   ]
  },
  {
   "cell_type": "code",
   "execution_count": 28,
   "metadata": {},
   "outputs": [
    {
     "name": "stdout",
     "output_type": "stream",
     "text": [
      "Splitting at: [43160, 51319, 57027, 69794]\n"
     ]
    },
    {
     "data": {
      "text/html": [
       "<div>\n",
       "<style scoped>\n",
       "    .dataframe tbody tr th:only-of-type {\n",
       "        vertical-align: middle;\n",
       "    }\n",
       "\n",
       "    .dataframe tbody tr th {\n",
       "        vertical-align: top;\n",
       "    }\n",
       "\n",
       "    .dataframe thead th {\n",
       "        text-align: right;\n",
       "    }\n",
       "</style>\n",
       "<table border=\"1\" class=\"dataframe\">\n",
       "  <thead>\n",
       "    <tr style=\"text-align: right;\">\n",
       "      <th></th>\n",
       "      <th>Chi-square test</th>\n",
       "      <th>results</th>\n",
       "    </tr>\n",
       "  </thead>\n",
       "  <tbody>\n",
       "    <tr>\n",
       "      <th>0</th>\n",
       "      <td>Pearson Chi-square ( 4.0) =</td>\n",
       "      <td>236.5830</td>\n",
       "    </tr>\n",
       "    <tr>\n",
       "      <th>1</th>\n",
       "      <td>p-value =</td>\n",
       "      <td>0.0000</td>\n",
       "    </tr>\n",
       "    <tr>\n",
       "      <th>2</th>\n",
       "      <td>Cramer's V =</td>\n",
       "      <td>0.6886</td>\n",
       "    </tr>\n",
       "  </tbody>\n",
       "</table>\n",
       "</div>"
      ],
      "text/plain": [
       "                Chi-square test   results\n",
       "0  Pearson Chi-square ( 4.0) =   236.5830\n",
       "1                    p-value =     0.0000\n",
       "2                 Cramer's V =     0.6886"
      ]
     },
     "execution_count": 28,
     "metadata": {},
     "output_type": "execute_result"
    },
    {
     "data": {
      "image/png": "[encoded data removed]",
      "text/plain": [
       "<Figure size 432x288 with 1 Axes>"
      ]
     },
     "metadata": {
      "needs_background": "light"
     },
     "output_type": "display_data"
    }
   ],
   "source": [
    "bins = [int(tpe_best_container[2][str(i)]) for i in range(0, breaks[2])]\n",
    "bins.sort()\n",
    "print(\"Splitting at:\", bins)\n",
    "df['Salary_cat'] = np.digitize(df['Salary'], bins)\n",
    "myAnalyser.chi_squared_test(df['Clicked'], df['Salary_cat'])[16]"
   ]
  },
  {
   "cell_type": "markdown",
   "metadata": {},
   "source": [
    "# Categorising having 6 bins"
   ]
  },
  {
   "cell_type": "code",
   "execution_count": 29,
   "metadata": {},
   "outputs": [
    {
     "name": "stdout",
     "output_type": "stream",
     "text": [
      "Splitting at: [30955, 42595, 51432, 58303, 71367]\n"
     ]
    },
    {
     "data": {
      "text/html": [
       "<div>\n",
       "<style scoped>\n",
       "    .dataframe tbody tr th:only-of-type {\n",
       "        vertical-align: middle;\n",
       "    }\n",
       "\n",
       "    .dataframe tbody tr th {\n",
       "        vertical-align: top;\n",
       "    }\n",
       "\n",
       "    .dataframe thead th {\n",
       "        text-align: right;\n",
       "    }\n",
       "</style>\n",
       "<table border=\"1\" class=\"dataframe\">\n",
       "  <thead>\n",
       "    <tr style=\"text-align: right;\">\n",
       "      <th></th>\n",
       "      <th>Chi-square test</th>\n",
       "      <th>results</th>\n",
       "    </tr>\n",
       "  </thead>\n",
       "  <tbody>\n",
       "    <tr>\n",
       "      <th>0</th>\n",
       "      <td>Pearson Chi-square ( 5.0) =</td>\n",
       "      <td>236.5952</td>\n",
       "    </tr>\n",
       "    <tr>\n",
       "      <th>1</th>\n",
       "      <td>p-value =</td>\n",
       "      <td>0.0000</td>\n",
       "    </tr>\n",
       "    <tr>\n",
       "      <th>2</th>\n",
       "      <td>Cramer's V =</td>\n",
       "      <td>0.6886</td>\n",
       "    </tr>\n",
       "  </tbody>\n",
       "</table>\n",
       "</div>"
      ],
      "text/plain": [
       "                Chi-square test   results\n",
       "0  Pearson Chi-square ( 5.0) =   236.5952\n",
       "1                    p-value =     0.0000\n",
       "2                 Cramer's V =     0.6886"
      ]
     },
     "execution_count": 29,
     "metadata": {},
     "output_type": "execute_result"
    },
    {
     "data": {
      "image/png": "[encoded data removed]",
      "text/plain": [
       "<Figure size 432x288 with 1 Axes>"
      ]
     },
     "metadata": {
      "needs_background": "light"
     },
     "output_type": "display_data"
    }
   ],
   "source": [
    "bins = [int(tpe_best_container[3][str(i)]) for i in range(0, breaks[3])]\n",
    "bins.sort()\n",
    "print(\"Splitting at:\", bins)\n",
    "df['Salary_cat'] = np.digitize(df['Salary'], bins)\n",
    "myAnalyser.chi_squared_test(df['Clicked'], df['Salary_cat'])[16]"
   ]
  },
  {
   "cell_type": "markdown",
   "metadata": {},
   "source": [
    "# Categorising having 11 bins"
   ]
  },
  {
   "cell_type": "code",
   "execution_count": 74,
   "metadata": {},
   "outputs": [
    {
     "data": {
      "text/html": [
       "<div>\n",
       "<style scoped>\n",
       "    .dataframe tbody tr th:only-of-type {\n",
       "        vertical-align: middle;\n",
       "    }\n",
       "\n",
       "    .dataframe tbody tr th {\n",
       "        vertical-align: top;\n",
       "    }\n",
       "\n",
       "    .dataframe thead th {\n",
       "        text-align: right;\n",
       "    }\n",
       "</style>\n",
       "<table border=\"1\" class=\"dataframe\">\n",
       "  <thead>\n",
       "    <tr style=\"text-align: right;\">\n",
       "      <th></th>\n",
       "      <th>Chi-square test</th>\n",
       "      <th>results</th>\n",
       "    </tr>\n",
       "  </thead>\n",
       "  <tbody>\n",
       "    <tr>\n",
       "      <th>0</th>\n",
       "      <td>Pearson Chi-square ( 10.0) =</td>\n",
       "      <td>241.8040</td>\n",
       "    </tr>\n",
       "    <tr>\n",
       "      <th>1</th>\n",
       "      <td>p-value =</td>\n",
       "      <td>0.0000</td>\n",
       "    </tr>\n",
       "    <tr>\n",
       "      <th>2</th>\n",
       "      <td>Cramer's V =</td>\n",
       "      <td>0.6961</td>\n",
       "    </tr>\n",
       "  </tbody>\n",
       "</table>\n",
       "</div>"
      ],
      "text/plain": [
       "                 Chi-square test   results\n",
       "0  Pearson Chi-square ( 10.0) =   241.8040\n",
       "1                     p-value =     0.0000\n",
       "2                  Cramer's V =     0.6961"
      ]
     },
     "execution_count": 74,
     "metadata": {},
     "output_type": "execute_result"
    },
    {
     "data": {
      "image/png": "[encoded data removed]",
      "text/plain": [
       "<Figure size 432x288 with 1 Axes>"
      ]
     },
     "metadata": {
      "needs_background": "light"
     },
     "output_type": "display_data"
    }
   ],
   "source": [
    "bins = [int(tpe_best_container[4][str(i)]) for i in range(0, breaks[4])]\n",
    "bins.sort()\n",
    "#print(\"Splitting at:\", bins)\n",
    "df['Salary_cat'] = np.digitize(df['Salary'], bins)\n",
    "myAnalyser.chi_squared_test(df['Clicked'], df['Salary_cat'],11)[16]"
   ]
  },
  {
   "cell_type": "markdown",
   "metadata": {},
   "source": [
    "# Categorising having 21 bins"
   ]
  },
  {
   "cell_type": "code",
   "execution_count": 73,
   "metadata": {},
   "outputs": [
    {
     "data": {
      "text/html": [
       "<div>\n",
       "<style scoped>\n",
       "    .dataframe tbody tr th:only-of-type {\n",
       "        vertical-align: middle;\n",
       "    }\n",
       "\n",
       "    .dataframe tbody tr th {\n",
       "        vertical-align: top;\n",
       "    }\n",
       "\n",
       "    .dataframe thead th {\n",
       "        text-align: right;\n",
       "    }\n",
       "</style>\n",
       "<table border=\"1\" class=\"dataframe\">\n",
       "  <thead>\n",
       "    <tr style=\"text-align: right;\">\n",
       "      <th></th>\n",
       "      <th>Chi-square test</th>\n",
       "      <th>results</th>\n",
       "    </tr>\n",
       "  </thead>\n",
       "  <tbody>\n",
       "    <tr>\n",
       "      <th>0</th>\n",
       "      <td>Pearson Chi-square ( 19.0) =</td>\n",
       "      <td>249.7842</td>\n",
       "    </tr>\n",
       "    <tr>\n",
       "      <th>1</th>\n",
       "      <td>p-value =</td>\n",
       "      <td>0.0000</td>\n",
       "    </tr>\n",
       "    <tr>\n",
       "      <th>2</th>\n",
       "      <td>Cramer's V =</td>\n",
       "      <td>0.7075</td>\n",
       "    </tr>\n",
       "  </tbody>\n",
       "</table>\n",
       "</div>"
      ],
      "text/plain": [
       "                 Chi-square test   results\n",
       "0  Pearson Chi-square ( 19.0) =   249.7842\n",
       "1                     p-value =     0.0000\n",
       "2                  Cramer's V =     0.7075"
      ]
     },
     "execution_count": 73,
     "metadata": {},
     "output_type": "execute_result"
    },
    {
     "data": {
      "image/png": "[encoded data removed]",
      "text/plain": [
       "<Figure size 432x288 with 1 Axes>"
      ]
     },
     "metadata": {
      "needs_background": "light"
     },
     "output_type": "display_data"
    }
   ],
   "source": [
    "bins = [int(tpe_best_container[5][str(i)]) for i in range(0, breaks[5])]\n",
    "bins.sort()\n",
    "#print(\"Splitting at:\", bins)\n",
    "df['Salary_cat'] = np.digitize(df['Salary'], bins)\n",
    "myAnalyser.chi_squared_test(df['Clicked'], df['Salary_cat'],21)[16]"
   ]
  },
  {
   "cell_type": "markdown",
   "metadata": {},
   "source": [
    "# Categorising having 51 bins"
   ]
  },
  {
   "cell_type": "code",
   "execution_count": 72,
   "metadata": {},
   "outputs": [
    {
     "data": {
      "text/html": [
       "<div>\n",
       "<style scoped>\n",
       "    .dataframe tbody tr th:only-of-type {\n",
       "        vertical-align: middle;\n",
       "    }\n",
       "\n",
       "    .dataframe tbody tr th {\n",
       "        vertical-align: top;\n",
       "    }\n",
       "\n",
       "    .dataframe thead th {\n",
       "        text-align: right;\n",
       "    }\n",
       "</style>\n",
       "<table border=\"1\" class=\"dataframe\">\n",
       "  <thead>\n",
       "    <tr style=\"text-align: right;\">\n",
       "      <th></th>\n",
       "      <th>Chi-square test</th>\n",
       "      <th>results</th>\n",
       "    </tr>\n",
       "  </thead>\n",
       "  <tbody>\n",
       "    <tr>\n",
       "      <th>0</th>\n",
       "      <td>Pearson Chi-square ( 46.0) =</td>\n",
       "      <td>262.2821</td>\n",
       "    </tr>\n",
       "    <tr>\n",
       "      <th>1</th>\n",
       "      <td>p-value =</td>\n",
       "      <td>0.0000</td>\n",
       "    </tr>\n",
       "    <tr>\n",
       "      <th>2</th>\n",
       "      <td>Cramer's V =</td>\n",
       "      <td>0.7250</td>\n",
       "    </tr>\n",
       "  </tbody>\n",
       "</table>\n",
       "</div>"
      ],
      "text/plain": [
       "                 Chi-square test   results\n",
       "0  Pearson Chi-square ( 46.0) =   262.2821\n",
       "1                     p-value =     0.0000\n",
       "2                  Cramer's V =     0.7250"
      ]
     },
     "execution_count": 72,
     "metadata": {},
     "output_type": "execute_result"
    },
    {
     "data": {
      "image/png": "[encoded data removed]",
      "text/plain": [
       "<Figure size 432x288 with 1 Axes>"
      ]
     },
     "metadata": {
      "needs_background": "light"
     },
     "output_type": "display_data"
    }
   ],
   "source": [
    "bins = [int(tpe_best_container[6][str(i)]) for i in range(0, breaks[6])]\n",
    "bins.sort()\n",
    "#print(\"Splitting at:\", bins)\n",
    "df['Salary_cat'] = np.digitize(df['Salary'], bins)\n",
    "myAnalyser.chi_squared_test(df['Clicked'], df['Salary_cat'],51)[16]"
   ]
  },
  {
   "cell_type": "markdown",
   "metadata": {},
   "source": [
    "# Categorising having 101 bins"
   ]
  },
  {
   "cell_type": "code",
   "execution_count": 71,
   "metadata": {},
   "outputs": [
    {
     "data": {
      "text/html": [
       "<div>\n",
       "<style scoped>\n",
       "    .dataframe tbody tr th:only-of-type {\n",
       "        vertical-align: middle;\n",
       "    }\n",
       "\n",
       "    .dataframe tbody tr th {\n",
       "        vertical-align: top;\n",
       "    }\n",
       "\n",
       "    .dataframe thead th {\n",
       "        text-align: right;\n",
       "    }\n",
       "</style>\n",
       "<table border=\"1\" class=\"dataframe\">\n",
       "  <thead>\n",
       "    <tr style=\"text-align: right;\">\n",
       "      <th></th>\n",
       "      <th>Chi-square test</th>\n",
       "      <th>results</th>\n",
       "    </tr>\n",
       "  </thead>\n",
       "  <tbody>\n",
       "    <tr>\n",
       "      <th>0</th>\n",
       "      <td>Pearson Chi-square ( 81.0) =</td>\n",
       "      <td>283.7121</td>\n",
       "    </tr>\n",
       "    <tr>\n",
       "      <th>1</th>\n",
       "      <td>p-value =</td>\n",
       "      <td>0.0000</td>\n",
       "    </tr>\n",
       "    <tr>\n",
       "      <th>2</th>\n",
       "      <td>Cramer's V =</td>\n",
       "      <td>0.7540</td>\n",
       "    </tr>\n",
       "  </tbody>\n",
       "</table>\n",
       "</div>"
      ],
      "text/plain": [
       "                 Chi-square test   results\n",
       "0  Pearson Chi-square ( 81.0) =   283.7121\n",
       "1                     p-value =     0.0000\n",
       "2                  Cramer's V =     0.7540"
      ]
     },
     "execution_count": 71,
     "metadata": {},
     "output_type": "execute_result"
    },
    {
     "data": {
      "image/png": "[encoded data removed]",
      "text/plain": [
       "<Figure size 432x288 with 1 Axes>"
      ]
     },
     "metadata": {
      "needs_background": "light"
     },
     "output_type": "display_data"
    }
   ],
   "source": [
    "bins = [int(tpe_best_container[7][str(i)]) for i in range(0, breaks[7])]\n",
    "bins.sort()\n",
    "#print(\"Splitting at:\", bins)\n",
    "df['Salary_cat'] = np.digitize(df['Salary'], bins)\n",
    "myAnalyser.chi_squared_test(df['Clicked'], df['Salary_cat'],101)[16]"
   ]
  }
 ],
 "metadata": {
  "kernelspec": {
   "display_name": "Python 3",
   "language": "python",
   "name": "python3"
  },
  "language_info": {
   "codemirror_mode": {
    "name": "ipython",
    "version": 3
   },
   "file_extension": ".py",
   "mimetype": "text/x-python",
   "name": "python",
   "nbconvert_exporter": "python",
   "pygments_lexer": "ipython3",
   "version": "3.7.1"
  },
  "toc": {
   "base_numbering": 1,
   "nav_menu": {},
   "number_sections": true,
   "sideBar": true,
   "skip_h1_title": false,
   "title_cell": "Table of Contents",
   "title_sidebar": "Contents",
   "toc_cell": false,
   "toc_position": {
    "height": "calc(100% - 180px)",
    "left": "10px",
    "top": "150px",
    "width": "210.8px"
   },
   "toc_section_display": true,
   "toc_window_display": false
  },
  "varInspector": {
   "cols": {
    "lenName": 16,
    "lenType": 16,
    "lenVar": 40
   },
   "kernels_config": {
    "python": {
     "delete_cmd_postfix": "",
     "delete_cmd_prefix": "del ",
     "library": "var_list.py",
     "varRefreshCmd": "print(var_dic_list())"
    },
    "r": {
     "delete_cmd_postfix": ") ",
     "delete_cmd_prefix": "rm(",
     "library": "var_list.r",
     "varRefreshCmd": "cat(var_dic_list()) "
    }
   },
   "types_to_exclude": [
    "module",
    "function",
    "builtin_function_or_method",
    "instance",
    "_Feature"
   ],
   "window_display": false
  }
 },
 "nbformat": 4,
 "nbformat_minor": 2
}
