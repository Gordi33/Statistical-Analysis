{
 "cells": [
  {
   "cell_type": "markdown",
   "metadata": {},
   "source": [
    "# Bivariate-Analysis\n",
    "Showing different methods of analysing the statistical and graphical significant difference between two variables.\n",
    "\n",
    "    Part 4: Normality test\n",
    "    Part 5: T-Test for two groups\n",
    "    Part 6: Confidence intervals for two groups with unknown variance\n",
    "    Part 7: U-Test for two groups\n",
    "    Part 8: Chi-square-Test for two categorical variables\n",
    "    Part 9: Chi-square-Test for each outcome of a categorical variable"
   ]
  },
  {
   "cell_type": "markdown",
   "metadata": {},
   "source": [
    "# Imports & Read data"
   ]
  },
  {
   "cell_type": "code",
   "execution_count": 1,
   "metadata": {},
   "outputs": [],
   "source": [
    "import sys\n",
    "sys.path.insert(0, 'lib\\\\')\n",
    "import pandas as pd \n",
    "import numpy as np\n",
    "import seaborn as sns\n",
    "from matplotlib import pyplot as plt\n",
    "import scipy.stats\n",
    "import Analyser"
   ]
  },
  {
   "cell_type": "markdown",
   "metadata": {},
   "source": [
    "## Read data"
   ]
  },
  {
   "cell_type": "code",
   "execution_count": 3,
   "metadata": {},
   "outputs": [],
   "source": [
    "df = pd.read_csv('data\\\\Facebook_Ads.csv', encoding='ISO-8859-1')"
   ]
  },
  {
   "cell_type": "markdown",
   "metadata": {},
   "source": [
    "# Create Analyser object"
   ]
  },
  {
   "cell_type": "code",
   "execution_count": 4,
   "metadata": {},
   "outputs": [],
   "source": [
    "myAnalyser = Analyser.Analyser()"
   ]
  },
  {
   "cell_type": "markdown",
   "metadata": {},
   "source": [
    "# Test of Normality\n",
    "    H0: Sample comes from a normal-distributed population        H1: Sample comes NOT from a normal-distributed population     "
   ]
  },
  {
   "cell_type": "code",
   "execution_count": 5,
   "metadata": {},
   "outputs": [
    {
     "data": {
      "image/png": "[encoded data removed]",
      "text/plain": [
       "<Figure size 432x288 with 1 Axes>"
      ]
     },
     "metadata": {
      "needs_background": "light"
     },
     "output_type": "display_data"
    },
    {
     "data": {
      "image/png": "[encoded data removed]",
      "text/plain": [
       "<Figure size 432x288 with 1 Axes>"
      ]
     },
     "metadata": {
      "needs_background": "light"
     },
     "output_type": "display_data"
    },
    {
     "name": "stdout",
     "output_type": "stream",
     "text": [
      "Alpha      = 0.05\n",
      "p          = 0.0678809\n",
      "Statistik  = 5.379999887156919\n",
      "Sample looks Gaussian (fail to reject H0)\n"
     ]
    }
   ],
   "source": [
    "myAnalyser.normality_test(df['Salary'])"
   ]
  },
  {
   "cell_type": "markdown",
   "metadata": {},
   "source": [
    "Further links:\n",
    "\n",
    " - https://machinelearningmastery.com/a-gentle-introduction-to-normality-tests-in-python/\n",
    " - https://docs.scipy.org/doc/scipy/reference/generated/scipy.stats.normaltest.html\n",
    " - https://towardsdatascience.com/inferential-statistics-series-t-test-using-numpy-2718f8f9bf2f"
   ]
  },
  {
   "cell_type": "markdown",
   "metadata": {},
   "source": [
    "# T-Test for two groups\n",
    "Test of equality of two independent expected values with unknown, but equal variance.\n",
    "The T-Test (parametric-test) is applied, if the assumption that the data comes from a normal-distribution can be hold up.\n",
    "\n",
    "    H0: Expected values are equal           H1: Expected values are not equal           "
   ]
  },
  {
   "cell_type": "code",
   "execution_count": 6,
   "metadata": {},
   "outputs": [
    {
     "data": {
      "text/plain": [
       "(      Variable      N          Mean            SD          SE     95% Conf.  \\\n",
       " 0   Clicked_No  249.0  40453.190331  14250.011901  903.057811  38674.549652   \n",
       " 1  Clicked_Yes  250.0  65291.019398  14486.331391  916.196043  63486.537514   \n",
       " 2     combined  499.0  52896.992469  18989.183150  850.072585  51226.821722   \n",
       " \n",
       "        Interval  \n",
       " 0  42231.831010  \n",
       " 1  67095.501282  \n",
       " 2  54567.163215  ,\n",
       "                          Independent t-test     results\n",
       " 0  Difference (Clicked_No - Clicked_Yes) =  -24837.8291\n",
       " 1                     Degrees of freedom =     497.0000\n",
       " 2                                      t =     -19.3068\n",
       " 3                  Two side test p value =       0.0000\n",
       " 4                 Difference < 0 p value =       0.0000\n",
       " 5                 Difference > 0 p value =       1.0000\n",
       " 6                              Cohen's d =      -1.7286\n",
       " 7                              Hedge's g =      -1.7260\n",
       " 8                          Glass's delta =      -1.7430\n",
       " 9                                      r =       0.6547)"
      ]
     },
     "execution_count": 6,
     "metadata": {},
     "output_type": "execute_result"
    }
   ],
   "source": [
    "group1 = df[df['Clicked'] == 0]['Salary']\n",
    "group2 = df[df['Clicked'] == 1]['Salary']\n",
    "group1.name = 'Clicked_No'\n",
    "group2.name = 'Clicked_Ye\n",
    "s'\n",
    "\n",
    "myAnalyser.t_test_for_two_EX_with_unknown_but_equal_variance(group1, group2)"
   ]
  },
  {
   "cell_type": "markdown",
   "metadata": {
    "collapsed": true
   },
   "source": [
    "Further links:\n",
    " - https://www.pythonfordatascience.org/independent-samples-t-test-python/\n",
    " - https://towardsdatascience.com/a-complete-guide-to-confidence-interval-and-examples-in-python-ff417c5cb593\n",
    " - https://towardsdatascience.com/inferential-statistics-series-t-test-using-numpy-2718f8f9bf2f\n",
    " - https://docs.scipy.org/doc/scipy/reference/generated/scipy.stats.ttest_ind.html"
   ]
  },
  {
   "cell_type": "markdown",
   "metadata": {},
   "source": [
    "# Confidence intervals for two groups with unknown variance"
   ]
  },
  {
   "cell_type": "code",
   "execution_count": 12,
   "metadata": {},
   "outputs": [
    {
     "name": "stdout",
     "output_type": "stream",
     "text": [
      "Confidence Interval:   99.0 %\n",
      "Group1 ( Clicked_No ): CI = [ 38674.55 ; 42231.83 ]\n",
      "Group2 ( Clicked_Yes ): CI = [ 63486.54 ; 67095.5 ]\n"
     ]
    },
    {
     "data": {
      "image/png": "[encoded data removed]",
      "text/plain": [
       "<Figure size 360x252 with 1 Axes>"
      ]
     },
     "metadata": {
      "needs_background": "light"
     },
     "output_type": "display_data"
    }
   ],
   "source": [
    "group1 = df[df['Clicked'] == 0]['Salary']\n",
    "group2 = df[df['Clicked'] == 1]['Salary']\n",
    "group1.name = 'Clicked_No'\n",
    "group2.name = 'Clicked_Yes'\n",
    "\n",
    "myAnalyser.confidence_interval_with_unknown_variance(group1,group2, 0.01)"
   ]
  },
  {
   "cell_type": "markdown",
   "metadata": {},
   "source": [
    "# U-Test for two groups\n",
    "The U-Test (non-parametric-test) is an alternative to the t-test, if the assumption that the data comes from a normal-distribution can't be hold up. "
   ]
  },
  {
   "cell_type": "code",
   "execution_count": 13,
   "metadata": {
    "code_folding": []
   },
   "outputs": [
    {
     "data": {
      "text/plain": [
       "['--------------------------------------------------------------------------------------',\n",
       " '----------------------------------------------------------------- OBSERVED FREQUENCIES',\n",
       "    Clicked  Total\n",
       " 0        0    249\n",
       " 1        1    250,\n",
       " '-------------------------------------------------------------------- AVERGAE RANKSUMS',\n",
       " 'Clicked = 0    E(sum(rank)) = 152.23',\n",
       " 'Clicked = 1    E(sum(rank)) = 347.38',\n",
       " '                     E(sum(rank)) = 250.0',\n",
       " '------------------------------------------------------------------------- TEST RESULTS',\n",
       " 'U-Statistik:     6781.0',\n",
       " 'p-Value:         0.0 %',\n",
       " '-------------------------------------------------------------------------------- PLOT',\n",
       " <AxesSubplot:xlabel='Clicked', ylabel='Salary'>]"
      ]
     },
     "execution_count": 13,
     "metadata": {},
     "output_type": "execute_result"
    },
    {
     "data": {
      "image/png": "[encoded data removed]",
      "text/plain": [
       "<Figure size 432x288 with 1 Axes>"
      ]
     },
     "metadata": {
      "needs_background": "light"
     },
     "output_type": "display_data"
    }
   ],
   "source": [
    "myAnalyser.mann_whitney_U_test(df['Clicked'], df['Salary'])"
   ]
  },
  {
   "cell_type": "markdown",
   "metadata": {},
   "source": [
    "Salary has a significant impact wheather a user click an add or not (p_value of 0%), \n",
    "in general people with a higher salary  do click on the add  "
   ]
  },
  {
   "cell_type": "markdown",
   "metadata": {},
   "source": [
    "# Chi-Square-Test for two categorical variables\n",
    "Non-parametric-test for two categorical variables."
   ]
  },
  {
   "cell_type": "code",
   "execution_count": 14,
   "metadata": {
    "scrolled": false
   },
   "outputs": [
    {
     "data": {
      "text/plain": [
       "['3 attributes',\n",
       " '--------------------------------------------------------------------------------------',\n",
       " '----------------------------------------------------------------- OBSERVED FREQUENCIES',\n",
       " '--------------------------------------------------------------------------------------',\n",
       "            Salary_cat                 \n",
       " Salary_cat       high  low middle  All\n",
       " Clicked                               \n",
       " 0                  11  194     44  249\n",
       " 1                 141   34     75  250\n",
       " All               152  228    119  499,\n",
       " '--------------------------------------------------------------------------------------',\n",
       " '------------------------------------------------------ OBSERVED FREQUENCIES (relative)',\n",
       " '--------------------------------------------------------------------------------------',\n",
       "            Salary_cat                       \n",
       " Salary_cat       high     low  middle    All\n",
       " Clicked                                     \n",
       " 0                7.24   85.09   36.97   49.9\n",
       " 1               92.76   14.91   63.03   50.1\n",
       " All            100.00  100.00  100.00  100.0,\n",
       " '--------------------------------------------------------------------------------------',\n",
       " '----------------------------------------------------------------- EXPECTED FREQUENCIES',\n",
       " '--------------------------------------------------------------------------------------',\n",
       "            Salary_cat              \n",
       " Salary_cat       high    low middle\n",
       " Clicked                            \n",
       " 0                76.0  114.0   59.0\n",
       " 1                76.0  114.0   60.0,\n",
       " '--------------------------------------------------------------------------------------',\n",
       " '------------------------------------------------------------------------- TEST RESULTS',\n",
       " '--------------------------------------------------------------------------------------',\n",
       "                 Chi-square test   results\n",
       " 0  Pearson Chi-square ( 2.0) =   231.5395\n",
       " 1                    p-value =     0.0000\n",
       " 2                 Cramer's V =     0.6812,\n",
       " '--------------------------------------------------------------------------------------',\n",
       " '--------------------------------------------------------------------------------- PLOT',\n",
       " '--------------------------------------------------------------------------------------',\n",
       " <AxesSubplot:xlabel='Salary_cat', ylabel='value'>]"
      ]
     },
     "execution_count": 14,
     "metadata": {},
     "output_type": "execute_result"
    },
    {
     "data": {
      "image/png": "[encoded data removed]",
      "text/plain": [
       "<Figure size 432x288 with 1 Axes>"
      ]
     },
     "metadata": {
      "needs_background": "light"
     },
     "output_type": "display_data"
    }
   ],
   "source": [
    "# apply Chi_Squared-Test \n",
    "df['Salary_cat'] = np.where(df['Salary'] < 51000, 'low',np.where(df['Salary'] < 63000, 'middle','high'))\n",
    "myAnalyser.chi_squared_test(df['Clicked'], df['Salary_cat'])"
   ]
  },
  {
   "cell_type": "markdown",
   "metadata": {},
   "source": [
    "Observed and expected figures differ significantly (p_value=0%). The two split values for binning the Salary-variable into three bins with 51K and 63K are the optimal values such that CramerV its maximum (see \n",
    "\"Categorising-under-maximising-CramerV-using-HyperOpt.ipynb\"). The high salary-category is extremely unbalanced with favouring \"Clicked\" whereas the low salary-category shows the exact counterpart."
   ]
  },
  {
   "cell_type": "markdown",
   "metadata": {},
   "source": [
    "# Chi-Square-Test for each outcome of a categorical variable\n",
    "Applying for each outcome of a categorical variable the Chi-square-test via outcome and the indicator-function."
   ]
  },
  {
   "cell_type": "code",
   "execution_count": 15,
   "metadata": {
    "scrolled": false
   },
   "outputs": [
    {
     "data": {
      "text/html": [
       "<div>\n",
       "<style scoped>\n",
       "    .dataframe tbody tr th:only-of-type {\n",
       "        vertical-align: middle;\n",
       "    }\n",
       "\n",
       "    .dataframe tbody tr th {\n",
       "        vertical-align: top;\n",
       "    }\n",
       "\n",
       "    .dataframe thead th {\n",
       "        text-align: right;\n",
       "    }\n",
       "</style>\n",
       "<table border=\"1\" class=\"dataframe\">\n",
       "  <thead>\n",
       "    <tr style=\"text-align: right;\">\n",
       "      <th></th>\n",
       "      <th>AttrCharacteristic</th>\n",
       "      <th>AttrCharacteristicRenamed</th>\n",
       "      <th>ChiSq</th>\n",
       "      <th>p_value</th>\n",
       "      <th>CramerV</th>\n",
       "    </tr>\n",
       "  </thead>\n",
       "  <tbody>\n",
       "    <tr>\n",
       "      <th>1</th>\n",
       "      <td>low</td>\n",
       "      <td>low</td>\n",
       "      <td>207.9290</td>\n",
       "      <td>0.0000</td>\n",
       "      <td>0.6455</td>\n",
       "    </tr>\n",
       "    <tr>\n",
       "      <th>0</th>\n",
       "      <td>high</td>\n",
       "      <td>high</td>\n",
       "      <td>159.1396</td>\n",
       "      <td>0.0000</td>\n",
       "      <td>0.5647</td>\n",
       "    </tr>\n",
       "    <tr>\n",
       "      <th>2</th>\n",
       "      <td>middle</td>\n",
       "      <td>middle</td>\n",
       "      <td>10.4421</td>\n",
       "      <td>0.0012</td>\n",
       "      <td>0.1447</td>\n",
       "    </tr>\n",
       "  </tbody>\n",
       "</table>\n",
       "</div>"
      ],
      "text/plain": [
       "  AttrCharacteristic AttrCharacteristicRenamed     ChiSq  p_value  CramerV\n",
       "1                low                       low  207.9290   0.0000   0.6455\n",
       "0               high                      high  159.1396   0.0000   0.5647\n",
       "2             middle                    middle   10.4421   0.0012   0.1447"
      ]
     },
     "execution_count": 15,
     "metadata": {},
     "output_type": "execute_result"
    }
   ],
   "source": [
    "myAnalyser.chi_square_test_for_each_category_level(df['Clicked'], df['Salary_cat'])"
   ]
  },
  {
   "cell_type": "markdown",
   "metadata": {},
   "source": [
    "The correlation measure CramerV verifies that the 'low and high salary' outcome has the most significant result with clicked."
   ]
  }
 ],
 "metadata": {
  "kernelspec": {
   "display_name": "Python 3",
   "language": "python",
   "name": "python3"
  },
  "language_info": {
   "codemirror_mode": {
    "name": "ipython",
    "version": 3
   },
   "file_extension": ".py",
   "mimetype": "text/x-python",
   "name": "python",
   "nbconvert_exporter": "python",
   "pygments_lexer": "ipython3",
   "version": "3.8.5"
  },
  "toc": {
   "base_numbering": 1,
   "nav_menu": {},
   "number_sections": true,
   "sideBar": true,
   "skip_h1_title": false,
   "title_cell": "Table of Contents",
   "title_sidebar": "Contents",
   "toc_cell": false,
   "toc_position": {},
   "toc_section_display": true,
   "toc_window_display": false
  },
  "varInspector": {
   "cols": {
    "lenName": 16,
    "lenType": 16,
    "lenVar": 40
   },
   "kernels_config": {
    "python": {
     "delete_cmd_postfix": "",
     "delete_cmd_prefix": "del ",
     "library": "var_list.py",
     "varRefreshCmd": "print(var_dic_list())"
    },
    "r": {
     "delete_cmd_postfix": ") ",
     "delete_cmd_prefix": "rm(",
     "library": "var_list.r",
     "varRefreshCmd": "cat(var_dic_list()) "
    }
   },
   "types_to_exclude": [
    "module",
    "function",
    "builtin_function_or_method",
    "instance",
    "_Feature"
   ],
   "window_display": false
  }
 },
 "nbformat": 4,
 "nbformat_minor": 2
}
