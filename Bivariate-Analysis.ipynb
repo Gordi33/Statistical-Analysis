{
 "cells": [
  {
   "cell_type": "markdown",
   "metadata": {},
   "source": [
    "# Imports"
   ]
  },
  {
   "cell_type": "code",
   "execution_count": 36,
   "metadata": {},
   "outputs": [],
   "source": [
    "import sys\n",
    "import pandas as pd \n",
    "import numpy as np"
   ]
  },
  {
   "cell_type": "code",
   "execution_count": 37,
   "metadata": {},
   "outputs": [],
   "source": [
    "import Analyser"
   ]
  },
  {
   "cell_type": "markdown",
   "metadata": {},
   "source": [
    "# Read data"
   ]
  },
  {
   "cell_type": "code",
   "execution_count": 38,
   "metadata": {},
   "outputs": [],
   "source": [
    "df = pd.read_csv('Facebook_Ads.csv', encoding='ISO-8859-1')"
   ]
  },
  {
   "cell_type": "markdown",
   "metadata": {},
   "source": [
    "# Create Analyser object"
   ]
  },
  {
   "cell_type": "code",
   "execution_count": 39,
   "metadata": {},
   "outputs": [],
   "source": [
    "# create my analyser object\n",
    "myAnalyser = Analyser.Analyser()"
   ]
  },
  {
   "cell_type": "markdown",
   "metadata": {},
   "source": [
    "# U-test\n",
    "the U-Test (non-parametric-test) is an alternative to the t-test, if the assumption that the data comes from a normal-distribution can't be hold up "
   ]
  },
  {
   "cell_type": "code",
   "execution_count": 40,
   "metadata": {
    "code_folding": [],
    "scrolled": true
   },
   "outputs": [
    {
     "data": {
      "text/plain": [
       "['--------------------------------------------------------------------------------------',\n",
       " '----------------------------------------------------------------- OBSERVED FREQUENCIES',\n",
       "    Clicked  Total\n",
       " 0        0    249\n",
       " 1        1    250,\n",
       " '-------------------------------------------------------------------- AVERGAE RANKSUMS',\n",
       " 'Clicked = 0    E(sum(rank)) = 152.23',\n",
       " 'Clicked = 1    E(sum(rank)) = 347.38',\n",
       " '                     E(sum(rank)) = 250.0',\n",
       " '------------------------------------------------------------------------- TEST RESULTS',\n",
       " 'U-Statistik:     6781.0',\n",
       " 'p-Value:         0.0 %',\n",
       " '-------------------------------------------------------------------------------- PLOT',\n",
       " <matplotlib.axes._subplots.AxesSubplot at 0x1bd41438>]"
      ]
     },
     "execution_count": 40,
     "metadata": {},
     "output_type": "execute_result"
    },
    {
     "data": {
      "image/png": "[encoded data removed]",
      "text/plain": [
       "<Figure size 432x288 with 1 Axes>"
      ]
     },
     "metadata": {
      "needs_background": "light"
     },
     "output_type": "display_data"
    }
   ],
   "source": [
    "myAnalyser.mann_whitney_U_test(df['Clicked'], df['Salary'])"
   ]
  },
  {
   "cell_type": "markdown",
   "metadata": {},
   "source": [
    "Salary has a significant impact wheather a user click an add or not (p_value of 0%), \n",
    "in general people with a higher salary  do click on the add  "
   ]
  },
  {
   "cell_type": "markdown",
   "metadata": {},
   "source": [
    "# Chi-square test for two categorical variables\n",
    "(non-parametric-test)  "
   ]
  },
  {
   "cell_type": "code",
   "execution_count": 41,
   "metadata": {
    "scrolled": false
   },
   "outputs": [
    {
     "data": {
      "text/plain": [
       "['3 attributes',\n",
       " '--------------------------------------------------------------------------------------',\n",
       " '----------------------------------------------------------------- OBSERVED FREQUENCIES',\n",
       " '--------------------------------------------------------------------------------------',\n",
       "            Salary_cat                \n",
       " Salary_cat       high low middle  All\n",
       " Clicked                              \n",
       " 0                  10  84    155  249\n",
       " 1                 127   7    116  250\n",
       " All               137  91    271  499,\n",
       " '--------------------------------------------------------------------------------------',\n",
       " '------------------------------------------------------ OBSERVED FREQUENCIES (relative)',\n",
       " '--------------------------------------------------------------------------------------',\n",
       "            Salary_cat                      \n",
       " Salary_cat       high     low middle    All\n",
       " Clicked                                    \n",
       " 0                 7.3   92.31   57.2   49.9\n",
       " 1                92.7    7.69   42.8   50.1\n",
       " All             100.0  100.00  100.0  100.0,\n",
       " '--------------------------------------------------------------------------------------',\n",
       " '----------------------------------------------------------------- EXPECTED FREQUENCIES',\n",
       " '--------------------------------------------------------------------------------------',\n",
       "            Salary_cat             \n",
       " Salary_cat       high   low middle\n",
       " Clicked                           \n",
       " 0                68.0  45.0  135.0\n",
       " 1                69.0  46.0  136.0,\n",
       " '--------------------------------------------------------------------------------------',\n",
       " '------------------------------------------------------------------------- TEST RESULTS',\n",
       " '--------------------------------------------------------------------------------------',\n",
       "                 Chi-square test   results\n",
       " 0  Pearson Chi-square ( 2.0) =   170.6848\n",
       " 1                    p-value =     0.0000\n",
       " 2                 Cramer's V =     0.5849,\n",
       " '--------------------------------------------------------------------------------------',\n",
       " '--------------------------------------------------------------------------------- PLOT',\n",
       " '--------------------------------------------------------------------------------------',\n",
       " <matplotlib.axes._subplots.AxesSubplot at 0x1beeb978>]"
      ]
     },
     "execution_count": 41,
     "metadata": {},
     "output_type": "execute_result"
    },
    {
     "data": {
      "image/png": "[encoded data removed]",
      "text/plain": [
       "<Figure size 432x288 with 1 Axes>"
      ]
     },
     "metadata": {
      "needs_background": "light"
     },
     "output_type": "display_data"
    }
   ],
   "source": [
    "# apply Chi_Squared-Test \n",
    "df['Salary_cat'] = np.where(df['Salary'] < 35000, 'low',np.where(df['Salary'] < 65000, 'middle','high'))\n",
    "myAnalyser.chi_squared_test(df['Clicked'], df['Salary_cat'])"
   ]
  },
  {
   "cell_type": "markdown",
   "metadata": {},
   "source": [
    "observed and expected figures differ significantly (p_value=0%), \n",
    "high salary category is extremely unbalanced with favouring clicked and high salary whereas \n",
    "low salary category is the almost exact counterpart"
   ]
  },
  {
   "cell_type": "markdown",
   "metadata": {},
   "source": [
    "# Chi-square test for each outcome of a categorical variable"
   ]
  },
  {
   "cell_type": "code",
   "execution_count": 42,
   "metadata": {
    "scrolled": false
   },
   "outputs": [
    {
     "data": {
      "text/html": [
       "<div>\n",
       "<style scoped>\n",
       "    .dataframe tbody tr th:only-of-type {\n",
       "        vertical-align: middle;\n",
       "    }\n",
       "\n",
       "    .dataframe tbody tr th {\n",
       "        vertical-align: top;\n",
       "    }\n",
       "\n",
       "    .dataframe thead th {\n",
       "        text-align: right;\n",
       "    }\n",
       "</style>\n",
       "<table border=\"1\" class=\"dataframe\">\n",
       "  <thead>\n",
       "    <tr style=\"text-align: right;\">\n",
       "      <th></th>\n",
       "      <th>AttrCharacteristic</th>\n",
       "      <th>AttrCharacteristicRenamed</th>\n",
       "      <th>ChiSq</th>\n",
       "      <th>p_value</th>\n",
       "      <th>CramerV</th>\n",
       "    </tr>\n",
       "  </thead>\n",
       "  <tbody>\n",
       "    <tr>\n",
       "      <th>0</th>\n",
       "      <td>high</td>\n",
       "      <td>high</td>\n",
       "      <td>137.0895</td>\n",
       "      <td>0.0000</td>\n",
       "      <td>0.5241</td>\n",
       "    </tr>\n",
       "    <tr>\n",
       "      <th>1</th>\n",
       "      <td>low</td>\n",
       "      <td>low</td>\n",
       "      <td>80.0639</td>\n",
       "      <td>0.0000</td>\n",
       "      <td>0.4006</td>\n",
       "    </tr>\n",
       "    <tr>\n",
       "      <th>2</th>\n",
       "      <td>middle</td>\n",
       "      <td>middle</td>\n",
       "      <td>12.6281</td>\n",
       "      <td>0.0004</td>\n",
       "      <td>0.1591</td>\n",
       "    </tr>\n",
       "  </tbody>\n",
       "</table>\n",
       "</div>"
      ],
      "text/plain": [
       "  AttrCharacteristic AttrCharacteristicRenamed     ChiSq  p_value  CramerV\n",
       "0               high                      high  137.0895   0.0000   0.5241\n",
       "1                low                       low   80.0639   0.0000   0.4006\n",
       "2             middle                    middle   12.6281   0.0004   0.1591"
      ]
     },
     "execution_count": 42,
     "metadata": {},
     "output_type": "execute_result"
    }
   ],
   "source": [
    "myAnalyser.chi_square_test_for_each_category_level(df['Clicked'], df['Salary_cat'])"
   ]
  },
  {
   "cell_type": "markdown",
   "metadata": {},
   "source": [
    "the correlation measure CramerV verifies that the 'high salary' outcome has the most significant result with clicked "
   ]
  }
 ],
 "metadata": {
  "kernelspec": {
   "display_name": "Python 3",
   "language": "python",
   "name": "python3"
  },
  "language_info": {
   "codemirror_mode": {
    "name": "ipython",
    "version": 3
   },
   "file_extension": ".py",
   "mimetype": "text/x-python",
   "name": "python",
   "nbconvert_exporter": "python",
   "pygments_lexer": "ipython3",
   "version": "3.7.1"
  },
  "toc": {
   "base_numbering": 1,
   "nav_menu": {},
   "number_sections": true,
   "sideBar": true,
   "skip_h1_title": false,
   "title_cell": "Table of Contents",
   "title_sidebar": "Contents",
   "toc_cell": false,
   "toc_position": {},
   "toc_section_display": true,
   "toc_window_display": false
  },
  "varInspector": {
   "cols": {
    "lenName": 16,
    "lenType": 16,
    "lenVar": 40
   },
   "kernels_config": {
    "python": {
     "delete_cmd_postfix": "",
     "delete_cmd_prefix": "del ",
     "library": "var_list.py",
     "varRefreshCmd": "print(var_dic_list())"
    },
    "r": {
     "delete_cmd_postfix": ") ",
     "delete_cmd_prefix": "rm(",
     "library": "var_list.r",
     "varRefreshCmd": "cat(var_dic_list()) "
    }
   },
   "types_to_exclude": [
    "module",
    "function",
    "builtin_function_or_method",
    "instance",
    "_Feature"
   ],
   "window_display": false
  }
 },
 "nbformat": 4,
 "nbformat_minor": 2
}
